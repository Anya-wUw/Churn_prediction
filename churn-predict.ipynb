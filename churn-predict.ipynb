{
 "cells": [
  {
   "cell_type": "code",
   "execution_count": 1,
   "id": "c1cdfb87",
   "metadata": {
    "execution": {
     "iopub.execute_input": "2022-10-17T15:01:11.515999Z",
     "iopub.status.busy": "2022-10-17T15:01:11.515359Z",
     "iopub.status.idle": "2022-10-17T15:01:12.954396Z",
     "shell.execute_reply": "2022-10-17T15:01:12.953093Z"
    },
    "papermill": {
     "duration": 1.469894,
     "end_time": "2022-10-17T15:01:12.957496",
     "exception": false,
     "start_time": "2022-10-17T15:01:11.487602",
     "status": "completed"
    },
    "tags": []
   },
   "outputs": [],
   "source": [
    "import pandas as pd\n",
    "import numpy as np\n",
    "from matplotlib import pyplot as plt\n",
    "import seaborn as sns\n",
    "from sklearn.metrics import roc_auc_score, roc_curve\n",
    "\n",
    "import warnings\n",
    "warnings.filterwarnings('ignore')"
   ]
  },
  {
   "cell_type": "code",
   "execution_count": 2,
   "id": "eb3ddbc3",
   "metadata": {
    "execution": {
     "iopub.execute_input": "2022-10-17T15:01:13.001152Z",
     "iopub.status.busy": "2022-10-17T15:01:13.000768Z",
     "iopub.status.idle": "2022-10-17T15:01:26.114969Z",
     "shell.execute_reply": "2022-10-17T15:01:26.113570Z"
    },
    "papermill": {
     "duration": 13.139229,
     "end_time": "2022-10-17T15:01:26.118096",
     "exception": false,
     "start_time": "2022-10-17T15:01:12.978867",
     "status": "completed"
    },
    "tags": []
   },
   "outputs": [
    {
     "name": "stdout",
     "output_type": "stream",
     "text": [
      "Requirement already satisfied: catboost in /opt/conda/lib/python3.7/site-packages (1.0.6)\r\n",
      "Requirement already satisfied: pandas>=0.24.0 in /opt/conda/lib/python3.7/site-packages (from catboost) (1.3.5)\r\n",
      "Requirement already satisfied: plotly in /opt/conda/lib/python3.7/site-packages (from catboost) (5.10.0)\r\n",
      "Requirement already satisfied: six in /opt/conda/lib/python3.7/site-packages (from catboost) (1.15.0)\r\n",
      "Requirement already satisfied: scipy in /opt/conda/lib/python3.7/site-packages (from catboost) (1.7.3)\r\n",
      "Requirement already satisfied: matplotlib in /opt/conda/lib/python3.7/site-packages (from catboost) (3.5.3)\r\n",
      "Requirement already satisfied: numpy>=1.16.0 in /opt/conda/lib/python3.7/site-packages (from catboost) (1.21.6)\r\n",
      "Requirement already satisfied: graphviz in /opt/conda/lib/python3.7/site-packages (from catboost) (0.8.4)\r\n",
      "Requirement already satisfied: python-dateutil>=2.7.3 in /opt/conda/lib/python3.7/site-packages (from pandas>=0.24.0->catboost) (2.8.2)\r\n",
      "Requirement already satisfied: pytz>=2017.3 in /opt/conda/lib/python3.7/site-packages (from pandas>=0.24.0->catboost) (2022.1)\r\n",
      "Requirement already satisfied: packaging>=20.0 in /opt/conda/lib/python3.7/site-packages (from matplotlib->catboost) (21.3)\r\n",
      "Requirement already satisfied: cycler>=0.10 in /opt/conda/lib/python3.7/site-packages (from matplotlib->catboost) (0.11.0)\r\n",
      "Requirement already satisfied: pyparsing>=2.2.1 in /opt/conda/lib/python3.7/site-packages (from matplotlib->catboost) (3.0.9)\r\n",
      "Requirement already satisfied: pillow>=6.2.0 in /opt/conda/lib/python3.7/site-packages (from matplotlib->catboost) (9.1.1)\r\n",
      "Requirement already satisfied: kiwisolver>=1.0.1 in /opt/conda/lib/python3.7/site-packages (from matplotlib->catboost) (1.4.3)\r\n",
      "Requirement already satisfied: fonttools>=4.22.0 in /opt/conda/lib/python3.7/site-packages (from matplotlib->catboost) (4.33.3)\r\n",
      "Requirement already satisfied: tenacity>=6.2.0 in /opt/conda/lib/python3.7/site-packages (from plotly->catboost) (8.0.1)\r\n",
      "Requirement already satisfied: typing-extensions in /opt/conda/lib/python3.7/site-packages (from kiwisolver>=1.0.1->matplotlib->catboost) (4.3.0)\r\n",
      "\u001b[33mWARNING: Running pip as the 'root' user can result in broken permissions and conflicting behaviour with the system package manager. It is recommended to use a virtual environment instead: https://pip.pypa.io/warnings/venv\u001b[0m\u001b[33m\r\n",
      "\u001b[0m"
     ]
    }
   ],
   "source": [
    "!pip install catboost"
   ]
  },
  {
   "cell_type": "markdown",
   "id": "eb56b49c",
   "metadata": {
    "papermill": {
     "duration": 0.021896,
     "end_time": "2022-10-17T15:01:26.160904",
     "exception": false,
     "start_time": "2022-10-17T15:01:26.139008",
     "status": "completed"
    },
    "tags": []
   },
   "source": [
    "## Загрузка данных (2 балла)"
   ]
  },
  {
   "cell_type": "markdown",
   "id": "06117526",
   "metadata": {
    "papermill": {
     "duration": 0.020459,
     "end_time": "2022-10-17T15:01:26.202179",
     "exception": false,
     "start_time": "2022-10-17T15:01:26.181720",
     "status": "completed"
    },
    "tags": []
   },
   "source": [
    "Загрузим наши файлы в train и test"
   ]
  },
  {
   "cell_type": "code",
   "execution_count": 3,
   "id": "ab6edc3f",
   "metadata": {
    "execution": {
     "iopub.execute_input": "2022-10-17T15:01:26.246115Z",
     "iopub.status.busy": "2022-10-17T15:01:26.245646Z",
     "iopub.status.idle": "2022-10-17T15:01:26.298366Z",
     "shell.execute_reply": "2022-10-17T15:01:26.297394Z"
    },
    "papermill": {
     "duration": 0.078282,
     "end_time": "2022-10-17T15:01:26.301193",
     "exception": false,
     "start_time": "2022-10-17T15:01:26.222911",
     "status": "completed"
    },
    "tags": []
   },
   "outputs": [],
   "source": [
    "train = pd.read_csv('../input/advanced-dls-spring-2021/train.csv')"
   ]
  },
  {
   "cell_type": "code",
   "execution_count": 4,
   "id": "b7528561",
   "metadata": {
    "execution": {
     "iopub.execute_input": "2022-10-17T15:01:26.344821Z",
     "iopub.status.busy": "2022-10-17T15:01:26.343774Z",
     "iopub.status.idle": "2022-10-17T15:01:26.367682Z",
     "shell.execute_reply": "2022-10-17T15:01:26.366383Z"
    },
    "papermill": {
     "duration": 0.048527,
     "end_time": "2022-10-17T15:01:26.370375",
     "exception": false,
     "start_time": "2022-10-17T15:01:26.321848",
     "status": "completed"
    },
    "tags": []
   },
   "outputs": [],
   "source": [
    "test = pd.read_csv('../input/advanced-dls-spring-2021/test.csv')"
   ]
  },
  {
   "cell_type": "markdown",
   "id": "017c55f3",
   "metadata": {
    "papermill": {
     "duration": 0.021872,
     "end_time": "2022-10-17T15:01:26.412844",
     "exception": false,
     "start_time": "2022-10-17T15:01:26.390972",
     "status": "completed"
    },
    "tags": []
   },
   "source": [
    "Выведем случайные 5 строк"
   ]
  },
  {
   "cell_type": "code",
   "execution_count": 5,
   "id": "50997b81",
   "metadata": {
    "execution": {
     "iopub.execute_input": "2022-10-17T15:01:26.456606Z",
     "iopub.status.busy": "2022-10-17T15:01:26.456184Z",
     "iopub.status.idle": "2022-10-17T15:01:26.493682Z",
     "shell.execute_reply": "2022-10-17T15:01:26.492490Z"
    },
    "papermill": {
     "duration": 0.062015,
     "end_time": "2022-10-17T15:01:26.496189",
     "exception": false,
     "start_time": "2022-10-17T15:01:26.434174",
     "status": "completed"
    },
    "tags": []
   },
   "outputs": [
    {
     "data": {
      "text/html": [
       "<div>\n",
       "<style scoped>\n",
       "    .dataframe tbody tr th:only-of-type {\n",
       "        vertical-align: middle;\n",
       "    }\n",
       "\n",
       "    .dataframe tbody tr th {\n",
       "        vertical-align: top;\n",
       "    }\n",
       "\n",
       "    .dataframe thead th {\n",
       "        text-align: right;\n",
       "    }\n",
       "</style>\n",
       "<table border=\"1\" class=\"dataframe\">\n",
       "  <thead>\n",
       "    <tr style=\"text-align: right;\">\n",
       "      <th></th>\n",
       "      <th>ClientPeriod</th>\n",
       "      <th>MonthlySpending</th>\n",
       "      <th>TotalSpent</th>\n",
       "      <th>Sex</th>\n",
       "      <th>IsSeniorCitizen</th>\n",
       "      <th>HasPartner</th>\n",
       "      <th>HasChild</th>\n",
       "      <th>HasPhoneService</th>\n",
       "      <th>HasMultiplePhoneNumbers</th>\n",
       "      <th>HasInternetService</th>\n",
       "      <th>HasOnlineSecurityService</th>\n",
       "      <th>HasOnlineBackup</th>\n",
       "      <th>HasDeviceProtection</th>\n",
       "      <th>HasTechSupportAccess</th>\n",
       "      <th>HasOnlineTV</th>\n",
       "      <th>HasMovieSubscription</th>\n",
       "      <th>HasContractPhone</th>\n",
       "      <th>IsBillingPaperless</th>\n",
       "      <th>PaymentMethod</th>\n",
       "      <th>Churn</th>\n",
       "    </tr>\n",
       "  </thead>\n",
       "  <tbody>\n",
       "    <tr>\n",
       "      <th>577</th>\n",
       "      <td>10</td>\n",
       "      <td>102.10</td>\n",
       "      <td>1068.85</td>\n",
       "      <td>Female</td>\n",
       "      <td>0</td>\n",
       "      <td>Yes</td>\n",
       "      <td>Yes</td>\n",
       "      <td>Yes</td>\n",
       "      <td>Yes</td>\n",
       "      <td>Fiber optic</td>\n",
       "      <td>No</td>\n",
       "      <td>Yes</td>\n",
       "      <td>Yes</td>\n",
       "      <td>No</td>\n",
       "      <td>Yes</td>\n",
       "      <td>Yes</td>\n",
       "      <td>Month-to-month</td>\n",
       "      <td>Yes</td>\n",
       "      <td>Credit card (automatic)</td>\n",
       "      <td>1</td>\n",
       "    </tr>\n",
       "    <tr>\n",
       "      <th>1161</th>\n",
       "      <td>43</td>\n",
       "      <td>29.30</td>\n",
       "      <td>1224.05</td>\n",
       "      <td>Male</td>\n",
       "      <td>0</td>\n",
       "      <td>Yes</td>\n",
       "      <td>Yes</td>\n",
       "      <td>No</td>\n",
       "      <td>No phone service</td>\n",
       "      <td>DSL</td>\n",
       "      <td>No</td>\n",
       "      <td>Yes</td>\n",
       "      <td>No</td>\n",
       "      <td>No</td>\n",
       "      <td>No</td>\n",
       "      <td>No</td>\n",
       "      <td>Month-to-month</td>\n",
       "      <td>No</td>\n",
       "      <td>Credit card (automatic)</td>\n",
       "      <td>0</td>\n",
       "    </tr>\n",
       "    <tr>\n",
       "      <th>5167</th>\n",
       "      <td>3</td>\n",
       "      <td>86.85</td>\n",
       "      <td>220.95</td>\n",
       "      <td>Female</td>\n",
       "      <td>1</td>\n",
       "      <td>No</td>\n",
       "      <td>No</td>\n",
       "      <td>Yes</td>\n",
       "      <td>No</td>\n",
       "      <td>Fiber optic</td>\n",
       "      <td>No</td>\n",
       "      <td>No</td>\n",
       "      <td>Yes</td>\n",
       "      <td>No</td>\n",
       "      <td>Yes</td>\n",
       "      <td>No</td>\n",
       "      <td>Month-to-month</td>\n",
       "      <td>Yes</td>\n",
       "      <td>Electronic check</td>\n",
       "      <td>1</td>\n",
       "    </tr>\n",
       "    <tr>\n",
       "      <th>897</th>\n",
       "      <td>53</td>\n",
       "      <td>71.85</td>\n",
       "      <td>3827.9</td>\n",
       "      <td>Male</td>\n",
       "      <td>0</td>\n",
       "      <td>Yes</td>\n",
       "      <td>Yes</td>\n",
       "      <td>Yes</td>\n",
       "      <td>Yes</td>\n",
       "      <td>DSL</td>\n",
       "      <td>Yes</td>\n",
       "      <td>No</td>\n",
       "      <td>No</td>\n",
       "      <td>Yes</td>\n",
       "      <td>No</td>\n",
       "      <td>Yes</td>\n",
       "      <td>Month-to-month</td>\n",
       "      <td>No</td>\n",
       "      <td>Electronic check</td>\n",
       "      <td>0</td>\n",
       "    </tr>\n",
       "    <tr>\n",
       "      <th>2279</th>\n",
       "      <td>47</td>\n",
       "      <td>94.90</td>\n",
       "      <td>4615.25</td>\n",
       "      <td>Female</td>\n",
       "      <td>0</td>\n",
       "      <td>No</td>\n",
       "      <td>No</td>\n",
       "      <td>Yes</td>\n",
       "      <td>Yes</td>\n",
       "      <td>Fiber optic</td>\n",
       "      <td>Yes</td>\n",
       "      <td>No</td>\n",
       "      <td>Yes</td>\n",
       "      <td>No</td>\n",
       "      <td>Yes</td>\n",
       "      <td>No</td>\n",
       "      <td>One year</td>\n",
       "      <td>No</td>\n",
       "      <td>Credit card (automatic)</td>\n",
       "      <td>0</td>\n",
       "    </tr>\n",
       "  </tbody>\n",
       "</table>\n",
       "</div>"
      ],
      "text/plain": [
       "      ClientPeriod  MonthlySpending TotalSpent     Sex  IsSeniorCitizen  \\\n",
       "577             10           102.10    1068.85  Female                0   \n",
       "1161            43            29.30    1224.05    Male                0   \n",
       "5167             3            86.85     220.95  Female                1   \n",
       "897             53            71.85     3827.9    Male                0   \n",
       "2279            47            94.90    4615.25  Female                0   \n",
       "\n",
       "     HasPartner HasChild HasPhoneService HasMultiplePhoneNumbers  \\\n",
       "577         Yes      Yes             Yes                     Yes   \n",
       "1161        Yes      Yes              No        No phone service   \n",
       "5167         No       No             Yes                      No   \n",
       "897         Yes      Yes             Yes                     Yes   \n",
       "2279         No       No             Yes                     Yes   \n",
       "\n",
       "     HasInternetService HasOnlineSecurityService HasOnlineBackup  \\\n",
       "577         Fiber optic                       No             Yes   \n",
       "1161                DSL                       No             Yes   \n",
       "5167        Fiber optic                       No              No   \n",
       "897                 DSL                      Yes              No   \n",
       "2279        Fiber optic                      Yes              No   \n",
       "\n",
       "     HasDeviceProtection HasTechSupportAccess HasOnlineTV  \\\n",
       "577                  Yes                   No         Yes   \n",
       "1161                  No                   No          No   \n",
       "5167                 Yes                   No         Yes   \n",
       "897                   No                  Yes          No   \n",
       "2279                 Yes                   No         Yes   \n",
       "\n",
       "     HasMovieSubscription HasContractPhone IsBillingPaperless  \\\n",
       "577                   Yes   Month-to-month                Yes   \n",
       "1161                   No   Month-to-month                 No   \n",
       "5167                   No   Month-to-month                Yes   \n",
       "897                   Yes   Month-to-month                 No   \n",
       "2279                   No         One year                 No   \n",
       "\n",
       "                PaymentMethod  Churn  \n",
       "577   Credit card (automatic)      1  \n",
       "1161  Credit card (automatic)      0  \n",
       "5167         Electronic check      1  \n",
       "897          Electronic check      0  \n",
       "2279  Credit card (automatic)      0  "
      ]
     },
     "execution_count": 5,
     "metadata": {},
     "output_type": "execute_result"
    }
   ],
   "source": [
    "train.sample(5)"
   ]
  },
  {
   "cell_type": "code",
   "execution_count": 6,
   "id": "84e40c1b",
   "metadata": {
    "execution": {
     "iopub.execute_input": "2022-10-17T15:01:26.539932Z",
     "iopub.status.busy": "2022-10-17T15:01:26.539113Z",
     "iopub.status.idle": "2022-10-17T15:01:26.546498Z",
     "shell.execute_reply": "2022-10-17T15:01:26.545346Z"
    },
    "papermill": {
     "duration": 0.032003,
     "end_time": "2022-10-17T15:01:26.548934",
     "exception": false,
     "start_time": "2022-10-17T15:01:26.516931",
     "status": "completed"
    },
    "tags": []
   },
   "outputs": [
    {
     "data": {
      "text/plain": [
       "(5282, 20)"
      ]
     },
     "execution_count": 6,
     "metadata": {},
     "output_type": "execute_result"
    }
   ],
   "source": [
    "train.shape"
   ]
  },
  {
   "cell_type": "markdown",
   "id": "e7f8feaa",
   "metadata": {
    "papermill": {
     "duration": 0.020607,
     "end_time": "2022-10-17T15:01:26.591688",
     "exception": false,
     "start_time": "2022-10-17T15:01:26.571081",
     "status": "completed"
    },
    "tags": []
   },
   "source": [
    "Наш дата сет состоит из <strong>5282 фичей и 20 признаков <br>\n",
    "Churn - целевая переменная</strong>"
   ]
  },
  {
   "cell_type": "markdown",
   "id": "1aafe40e",
   "metadata": {
    "papermill": {
     "duration": 0.020509,
     "end_time": "2022-10-17T15:01:26.633677",
     "exception": false,
     "start_time": "2022-10-17T15:01:26.613168",
     "status": "completed"
    },
    "tags": []
   },
   "source": [
    "Вынесем целевую переменную в отдельную и удалим ее из фрейма"
   ]
  },
  {
   "cell_type": "code",
   "execution_count": 7,
   "id": "ae44734d",
   "metadata": {
    "execution": {
     "iopub.execute_input": "2022-10-17T15:01:26.677986Z",
     "iopub.status.busy": "2022-10-17T15:01:26.676779Z",
     "iopub.status.idle": "2022-10-17T15:01:26.683807Z",
     "shell.execute_reply": "2022-10-17T15:01:26.682499Z"
    },
    "papermill": {
     "duration": 0.031957,
     "end_time": "2022-10-17T15:01:26.686518",
     "exception": false,
     "start_time": "2022-10-17T15:01:26.654561",
     "status": "completed"
    },
    "tags": []
   },
   "outputs": [],
   "source": [
    "num_cols = [\n",
    "    'ClientPeriod',\n",
    "    'MonthlySpending',\n",
    "    'TotalSpent'\n",
    "]\n",
    "\n",
    "# Категориальные признаки\n",
    "cat_cols = [\n",
    "    'Sex',\n",
    "    'IsSeniorCitizen',\n",
    "    'HasPartner',\n",
    "    'HasChild',\n",
    "    'HasPhoneService',\n",
    "    'HasMultiplePhoneNumbers',\n",
    "    'HasInternetService',\n",
    "    'HasOnlineSecurityService',\n",
    "    'HasOnlineBackup',\n",
    "    'HasDeviceProtection',\n",
    "    'HasTechSupportAccess',\n",
    "    'HasOnlineTV',\n",
    "    'HasMovieSubscription',\n",
    "    'HasContractPhone',\n",
    "    'IsBillingPaperless',\n",
    "    'PaymentMethod'\n",
    "]\n",
    "\n",
    "feature_cols = num_cols + cat_cols\n",
    "target_col = 'Churn'"
   ]
  },
  {
   "cell_type": "code",
   "execution_count": 8,
   "id": "5e67d585",
   "metadata": {
    "execution": {
     "iopub.execute_input": "2022-10-17T15:01:26.731889Z",
     "iopub.status.busy": "2022-10-17T15:01:26.731464Z",
     "iopub.status.idle": "2022-10-17T15:01:26.744764Z",
     "shell.execute_reply": "2022-10-17T15:01:26.743764Z"
    },
    "papermill": {
     "duration": 0.038266,
     "end_time": "2022-10-17T15:01:26.747126",
     "exception": false,
     "start_time": "2022-10-17T15:01:26.708860",
     "status": "completed"
    },
    "tags": []
   },
   "outputs": [
    {
     "data": {
      "text/plain": [
       "ClientPeriod                0\n",
       "MonthlySpending             0\n",
       "TotalSpent                  0\n",
       "Sex                         0\n",
       "IsSeniorCitizen             0\n",
       "HasPartner                  0\n",
       "HasChild                    0\n",
       "HasPhoneService             0\n",
       "HasMultiplePhoneNumbers     0\n",
       "HasInternetService          0\n",
       "HasOnlineSecurityService    0\n",
       "HasOnlineBackup             0\n",
       "HasDeviceProtection         0\n",
       "HasTechSupportAccess        0\n",
       "HasOnlineTV                 0\n",
       "HasMovieSubscription        0\n",
       "HasContractPhone            0\n",
       "IsBillingPaperless          0\n",
       "PaymentMethod               0\n",
       "Churn                       0\n",
       "dtype: int64"
      ]
     },
     "execution_count": 8,
     "metadata": {},
     "output_type": "execute_result"
    }
   ],
   "source": [
    "train.isna().sum()"
   ]
  },
  {
   "cell_type": "code",
   "execution_count": 9,
   "id": "d91f42af",
   "metadata": {
    "execution": {
     "iopub.execute_input": "2022-10-17T15:01:26.792205Z",
     "iopub.status.busy": "2022-10-17T15:01:26.791528Z",
     "iopub.status.idle": "2022-10-17T15:01:26.822982Z",
     "shell.execute_reply": "2022-10-17T15:01:26.821607Z"
    },
    "papermill": {
     "duration": 0.056862,
     "end_time": "2022-10-17T15:01:26.825369",
     "exception": false,
     "start_time": "2022-10-17T15:01:26.768507",
     "status": "completed"
    },
    "tags": []
   },
   "outputs": [
    {
     "name": "stdout",
     "output_type": "stream",
     "text": [
      "<class 'pandas.core.frame.DataFrame'>\n",
      "RangeIndex: 5282 entries, 0 to 5281\n",
      "Data columns (total 20 columns):\n",
      " #   Column                    Non-Null Count  Dtype  \n",
      "---  ------                    --------------  -----  \n",
      " 0   ClientPeriod              5282 non-null   int64  \n",
      " 1   MonthlySpending           5282 non-null   float64\n",
      " 2   TotalSpent                5282 non-null   object \n",
      " 3   Sex                       5282 non-null   object \n",
      " 4   IsSeniorCitizen           5282 non-null   int64  \n",
      " 5   HasPartner                5282 non-null   object \n",
      " 6   HasChild                  5282 non-null   object \n",
      " 7   HasPhoneService           5282 non-null   object \n",
      " 8   HasMultiplePhoneNumbers   5282 non-null   object \n",
      " 9   HasInternetService        5282 non-null   object \n",
      " 10  HasOnlineSecurityService  5282 non-null   object \n",
      " 11  HasOnlineBackup           5282 non-null   object \n",
      " 12  HasDeviceProtection       5282 non-null   object \n",
      " 13  HasTechSupportAccess      5282 non-null   object \n",
      " 14  HasOnlineTV               5282 non-null   object \n",
      " 15  HasMovieSubscription      5282 non-null   object \n",
      " 16  HasContractPhone          5282 non-null   object \n",
      " 17  IsBillingPaperless        5282 non-null   object \n",
      " 18  PaymentMethod             5282 non-null   object \n",
      " 19  Churn                     5282 non-null   int64  \n",
      "dtypes: float64(1), int64(3), object(16)\n",
      "memory usage: 825.4+ KB\n"
     ]
    }
   ],
   "source": [
    "train.info()"
   ]
  },
  {
   "cell_type": "markdown",
   "id": "278a12e3",
   "metadata": {
    "papermill": {
     "duration": 0.02104,
     "end_time": "2022-10-17T15:01:26.868103",
     "exception": false,
     "start_time": "2022-10-17T15:01:26.847063",
     "status": "completed"
    },
    "tags": []
   },
   "source": [
    "Мы видим, что в наших данных <strong>нет пропусков</strong>. <br>\n",
    "Однако <strong>TotalSpent имеет тип object</strong>, когда явно должен иметь float <br>\n",
    "Рассмотрим содержание этого признака"
   ]
  },
  {
   "cell_type": "code",
   "execution_count": 10,
   "id": "c03d3102",
   "metadata": {
    "execution": {
     "iopub.execute_input": "2022-10-17T15:01:26.912908Z",
     "iopub.status.busy": "2022-10-17T15:01:26.912525Z",
     "iopub.status.idle": "2022-10-17T15:01:26.924869Z",
     "shell.execute_reply": "2022-10-17T15:01:26.923399Z"
    },
    "papermill": {
     "duration": 0.03742,
     "end_time": "2022-10-17T15:01:26.927387",
     "exception": false,
     "start_time": "2022-10-17T15:01:26.889967",
     "status": "completed"
    },
    "tags": []
   },
   "outputs": [
    {
     "data": {
      "text/plain": [
       "           9\n",
       "20.2       9\n",
       "19.75      8\n",
       "20.05      6\n",
       "19.65      6\n",
       "          ..\n",
       "41.85      1\n",
       "4326.25    1\n",
       "950.2      1\n",
       "4264       1\n",
       "1375.6     1\n",
       "Name: TotalSpent, Length: 4978, dtype: int64"
      ]
     },
     "execution_count": 10,
     "metadata": {},
     "output_type": "execute_result"
    }
   ],
   "source": [
    "train['TotalSpent'].value_counts()"
   ]
  },
  {
   "cell_type": "markdown",
   "id": "4e0adf23",
   "metadata": {
    "papermill": {
     "duration": 0.021067,
     "end_time": "2022-10-17T15:01:26.969924",
     "exception": false,
     "start_time": "2022-10-17T15:01:26.948857",
     "status": "completed"
    },
    "tags": []
   },
   "source": [
    "Мы видим(первая строчка), что у нас есть <strong>9 пробелов</strong> в этом столбце<br>\n",
    "Выведем фичи с пробелами"
   ]
  },
  {
   "cell_type": "code",
   "execution_count": 11,
   "id": "a011553c",
   "metadata": {
    "execution": {
     "iopub.execute_input": "2022-10-17T15:01:27.017236Z",
     "iopub.status.busy": "2022-10-17T15:01:27.016259Z",
     "iopub.status.idle": "2022-10-17T15:01:27.045897Z",
     "shell.execute_reply": "2022-10-17T15:01:27.044791Z"
    },
    "papermill": {
     "duration": 0.05568,
     "end_time": "2022-10-17T15:01:27.048408",
     "exception": false,
     "start_time": "2022-10-17T15:01:26.992728",
     "status": "completed"
    },
    "tags": []
   },
   "outputs": [
    {
     "data": {
      "text/html": [
       "<div>\n",
       "<style scoped>\n",
       "    .dataframe tbody tr th:only-of-type {\n",
       "        vertical-align: middle;\n",
       "    }\n",
       "\n",
       "    .dataframe tbody tr th {\n",
       "        vertical-align: top;\n",
       "    }\n",
       "\n",
       "    .dataframe thead th {\n",
       "        text-align: right;\n",
       "    }\n",
       "</style>\n",
       "<table border=\"1\" class=\"dataframe\">\n",
       "  <thead>\n",
       "    <tr style=\"text-align: right;\">\n",
       "      <th></th>\n",
       "      <th>ClientPeriod</th>\n",
       "      <th>MonthlySpending</th>\n",
       "      <th>TotalSpent</th>\n",
       "      <th>Sex</th>\n",
       "      <th>IsSeniorCitizen</th>\n",
       "      <th>HasPartner</th>\n",
       "      <th>HasChild</th>\n",
       "      <th>HasPhoneService</th>\n",
       "      <th>HasMultiplePhoneNumbers</th>\n",
       "      <th>HasInternetService</th>\n",
       "      <th>HasOnlineSecurityService</th>\n",
       "      <th>HasOnlineBackup</th>\n",
       "      <th>HasDeviceProtection</th>\n",
       "      <th>HasTechSupportAccess</th>\n",
       "      <th>HasOnlineTV</th>\n",
       "      <th>HasMovieSubscription</th>\n",
       "      <th>HasContractPhone</th>\n",
       "      <th>IsBillingPaperless</th>\n",
       "      <th>PaymentMethod</th>\n",
       "      <th>Churn</th>\n",
       "    </tr>\n",
       "  </thead>\n",
       "  <tbody>\n",
       "    <tr>\n",
       "      <th>1048</th>\n",
       "      <td>0</td>\n",
       "      <td>25.75</td>\n",
       "      <td></td>\n",
       "      <td>Male</td>\n",
       "      <td>0</td>\n",
       "      <td>Yes</td>\n",
       "      <td>Yes</td>\n",
       "      <td>Yes</td>\n",
       "      <td>Yes</td>\n",
       "      <td>No</td>\n",
       "      <td>No internet service</td>\n",
       "      <td>No internet service</td>\n",
       "      <td>No internet service</td>\n",
       "      <td>No internet service</td>\n",
       "      <td>No internet service</td>\n",
       "      <td>No internet service</td>\n",
       "      <td>Two year</td>\n",
       "      <td>No</td>\n",
       "      <td>Mailed check</td>\n",
       "      <td>0</td>\n",
       "    </tr>\n",
       "    <tr>\n",
       "      <th>1707</th>\n",
       "      <td>0</td>\n",
       "      <td>73.35</td>\n",
       "      <td></td>\n",
       "      <td>Female</td>\n",
       "      <td>0</td>\n",
       "      <td>Yes</td>\n",
       "      <td>Yes</td>\n",
       "      <td>Yes</td>\n",
       "      <td>Yes</td>\n",
       "      <td>DSL</td>\n",
       "      <td>No</td>\n",
       "      <td>Yes</td>\n",
       "      <td>Yes</td>\n",
       "      <td>Yes</td>\n",
       "      <td>Yes</td>\n",
       "      <td>No</td>\n",
       "      <td>Two year</td>\n",
       "      <td>No</td>\n",
       "      <td>Mailed check</td>\n",
       "      <td>0</td>\n",
       "    </tr>\n",
       "    <tr>\n",
       "      <th>2543</th>\n",
       "      <td>0</td>\n",
       "      <td>19.70</td>\n",
       "      <td></td>\n",
       "      <td>Male</td>\n",
       "      <td>0</td>\n",
       "      <td>Yes</td>\n",
       "      <td>Yes</td>\n",
       "      <td>Yes</td>\n",
       "      <td>No</td>\n",
       "      <td>No</td>\n",
       "      <td>No internet service</td>\n",
       "      <td>No internet service</td>\n",
       "      <td>No internet service</td>\n",
       "      <td>No internet service</td>\n",
       "      <td>No internet service</td>\n",
       "      <td>No internet service</td>\n",
       "      <td>One year</td>\n",
       "      <td>Yes</td>\n",
       "      <td>Mailed check</td>\n",
       "      <td>0</td>\n",
       "    </tr>\n",
       "    <tr>\n",
       "      <th>3078</th>\n",
       "      <td>0</td>\n",
       "      <td>80.85</td>\n",
       "      <td></td>\n",
       "      <td>Female</td>\n",
       "      <td>0</td>\n",
       "      <td>Yes</td>\n",
       "      <td>Yes</td>\n",
       "      <td>Yes</td>\n",
       "      <td>No</td>\n",
       "      <td>DSL</td>\n",
       "      <td>Yes</td>\n",
       "      <td>Yes</td>\n",
       "      <td>Yes</td>\n",
       "      <td>No</td>\n",
       "      <td>Yes</td>\n",
       "      <td>Yes</td>\n",
       "      <td>Two year</td>\n",
       "      <td>No</td>\n",
       "      <td>Mailed check</td>\n",
       "      <td>0</td>\n",
       "    </tr>\n",
       "    <tr>\n",
       "      <th>3697</th>\n",
       "      <td>0</td>\n",
       "      <td>20.00</td>\n",
       "      <td></td>\n",
       "      <td>Female</td>\n",
       "      <td>0</td>\n",
       "      <td>Yes</td>\n",
       "      <td>Yes</td>\n",
       "      <td>Yes</td>\n",
       "      <td>No</td>\n",
       "      <td>No</td>\n",
       "      <td>No internet service</td>\n",
       "      <td>No internet service</td>\n",
       "      <td>No internet service</td>\n",
       "      <td>No internet service</td>\n",
       "      <td>No internet service</td>\n",
       "      <td>No internet service</td>\n",
       "      <td>Two year</td>\n",
       "      <td>No</td>\n",
       "      <td>Mailed check</td>\n",
       "      <td>0</td>\n",
       "    </tr>\n",
       "    <tr>\n",
       "      <th>4002</th>\n",
       "      <td>0</td>\n",
       "      <td>61.90</td>\n",
       "      <td></td>\n",
       "      <td>Male</td>\n",
       "      <td>0</td>\n",
       "      <td>No</td>\n",
       "      <td>Yes</td>\n",
       "      <td>Yes</td>\n",
       "      <td>Yes</td>\n",
       "      <td>DSL</td>\n",
       "      <td>Yes</td>\n",
       "      <td>Yes</td>\n",
       "      <td>No</td>\n",
       "      <td>Yes</td>\n",
       "      <td>No</td>\n",
       "      <td>No</td>\n",
       "      <td>Two year</td>\n",
       "      <td>Yes</td>\n",
       "      <td>Bank transfer (automatic)</td>\n",
       "      <td>0</td>\n",
       "    </tr>\n",
       "    <tr>\n",
       "      <th>4326</th>\n",
       "      <td>0</td>\n",
       "      <td>25.35</td>\n",
       "      <td></td>\n",
       "      <td>Male</td>\n",
       "      <td>0</td>\n",
       "      <td>Yes</td>\n",
       "      <td>Yes</td>\n",
       "      <td>Yes</td>\n",
       "      <td>Yes</td>\n",
       "      <td>No</td>\n",
       "      <td>No internet service</td>\n",
       "      <td>No internet service</td>\n",
       "      <td>No internet service</td>\n",
       "      <td>No internet service</td>\n",
       "      <td>No internet service</td>\n",
       "      <td>No internet service</td>\n",
       "      <td>Two year</td>\n",
       "      <td>No</td>\n",
       "      <td>Mailed check</td>\n",
       "      <td>0</td>\n",
       "    </tr>\n",
       "    <tr>\n",
       "      <th>4551</th>\n",
       "      <td>0</td>\n",
       "      <td>52.55</td>\n",
       "      <td></td>\n",
       "      <td>Female</td>\n",
       "      <td>0</td>\n",
       "      <td>Yes</td>\n",
       "      <td>Yes</td>\n",
       "      <td>No</td>\n",
       "      <td>No phone service</td>\n",
       "      <td>DSL</td>\n",
       "      <td>Yes</td>\n",
       "      <td>No</td>\n",
       "      <td>Yes</td>\n",
       "      <td>Yes</td>\n",
       "      <td>Yes</td>\n",
       "      <td>No</td>\n",
       "      <td>Two year</td>\n",
       "      <td>Yes</td>\n",
       "      <td>Bank transfer (automatic)</td>\n",
       "      <td>0</td>\n",
       "    </tr>\n",
       "    <tr>\n",
       "      <th>4598</th>\n",
       "      <td>0</td>\n",
       "      <td>56.05</td>\n",
       "      <td></td>\n",
       "      <td>Female</td>\n",
       "      <td>0</td>\n",
       "      <td>Yes</td>\n",
       "      <td>Yes</td>\n",
       "      <td>No</td>\n",
       "      <td>No phone service</td>\n",
       "      <td>DSL</td>\n",
       "      <td>Yes</td>\n",
       "      <td>Yes</td>\n",
       "      <td>Yes</td>\n",
       "      <td>Yes</td>\n",
       "      <td>Yes</td>\n",
       "      <td>No</td>\n",
       "      <td>Two year</td>\n",
       "      <td>No</td>\n",
       "      <td>Credit card (automatic)</td>\n",
       "      <td>0</td>\n",
       "    </tr>\n",
       "  </tbody>\n",
       "</table>\n",
       "</div>"
      ],
      "text/plain": [
       "      ClientPeriod  MonthlySpending TotalSpent     Sex  IsSeniorCitizen  \\\n",
       "1048             0            25.75               Male                0   \n",
       "1707             0            73.35             Female                0   \n",
       "2543             0            19.70               Male                0   \n",
       "3078             0            80.85             Female                0   \n",
       "3697             0            20.00             Female                0   \n",
       "4002             0            61.90               Male                0   \n",
       "4326             0            25.35               Male                0   \n",
       "4551             0            52.55             Female                0   \n",
       "4598             0            56.05             Female                0   \n",
       "\n",
       "     HasPartner HasChild HasPhoneService HasMultiplePhoneNumbers  \\\n",
       "1048        Yes      Yes             Yes                     Yes   \n",
       "1707        Yes      Yes             Yes                     Yes   \n",
       "2543        Yes      Yes             Yes                      No   \n",
       "3078        Yes      Yes             Yes                      No   \n",
       "3697        Yes      Yes             Yes                      No   \n",
       "4002         No      Yes             Yes                     Yes   \n",
       "4326        Yes      Yes             Yes                     Yes   \n",
       "4551        Yes      Yes              No        No phone service   \n",
       "4598        Yes      Yes              No        No phone service   \n",
       "\n",
       "     HasInternetService HasOnlineSecurityService      HasOnlineBackup  \\\n",
       "1048                 No      No internet service  No internet service   \n",
       "1707                DSL                       No                  Yes   \n",
       "2543                 No      No internet service  No internet service   \n",
       "3078                DSL                      Yes                  Yes   \n",
       "3697                 No      No internet service  No internet service   \n",
       "4002                DSL                      Yes                  Yes   \n",
       "4326                 No      No internet service  No internet service   \n",
       "4551                DSL                      Yes                   No   \n",
       "4598                DSL                      Yes                  Yes   \n",
       "\n",
       "      HasDeviceProtection HasTechSupportAccess          HasOnlineTV  \\\n",
       "1048  No internet service  No internet service  No internet service   \n",
       "1707                  Yes                  Yes                  Yes   \n",
       "2543  No internet service  No internet service  No internet service   \n",
       "3078                  Yes                   No                  Yes   \n",
       "3697  No internet service  No internet service  No internet service   \n",
       "4002                   No                  Yes                   No   \n",
       "4326  No internet service  No internet service  No internet service   \n",
       "4551                  Yes                  Yes                  Yes   \n",
       "4598                  Yes                  Yes                  Yes   \n",
       "\n",
       "     HasMovieSubscription HasContractPhone IsBillingPaperless  \\\n",
       "1048  No internet service         Two year                 No   \n",
       "1707                   No         Two year                 No   \n",
       "2543  No internet service         One year                Yes   \n",
       "3078                  Yes         Two year                 No   \n",
       "3697  No internet service         Two year                 No   \n",
       "4002                   No         Two year                Yes   \n",
       "4326  No internet service         Two year                 No   \n",
       "4551                   No         Two year                Yes   \n",
       "4598                   No         Two year                 No   \n",
       "\n",
       "                  PaymentMethod  Churn  \n",
       "1048               Mailed check      0  \n",
       "1707               Mailed check      0  \n",
       "2543               Mailed check      0  \n",
       "3078               Mailed check      0  \n",
       "3697               Mailed check      0  \n",
       "4002  Bank transfer (automatic)      0  \n",
       "4326               Mailed check      0  \n",
       "4551  Bank transfer (automatic)      0  \n",
       "4598    Credit card (automatic)      0  "
      ]
     },
     "execution_count": 11,
     "metadata": {},
     "output_type": "execute_result"
    }
   ],
   "source": [
    "train[train['TotalSpent']==' ']"
   ]
  },
  {
   "cell_type": "markdown",
   "id": "48c2eaae",
   "metadata": {
    "papermill": {
     "duration": 0.021595,
     "end_time": "2022-10-17T15:01:27.091885",
     "exception": false,
     "start_time": "2022-10-17T15:01:27.070290",
     "status": "completed"
    },
    "tags": []
   },
   "source": [
    "Мы также видим, что эти столбцы имеют <strong>0 в столбце CliendPeriod</strong>, чего быть не должно<br>\n",
    "Проверим сколько всего фичей, где CliendPeriod = 0"
   ]
  },
  {
   "cell_type": "code",
   "execution_count": 12,
   "id": "dfbb88a3",
   "metadata": {
    "execution": {
     "iopub.execute_input": "2022-10-17T15:01:27.137215Z",
     "iopub.status.busy": "2022-10-17T15:01:27.136394Z",
     "iopub.status.idle": "2022-10-17T15:01:27.144480Z",
     "shell.execute_reply": "2022-10-17T15:01:27.143588Z"
    },
    "papermill": {
     "duration": 0.033289,
     "end_time": "2022-10-17T15:01:27.146743",
     "exception": false,
     "start_time": "2022-10-17T15:01:27.113454",
     "status": "completed"
    },
    "tags": []
   },
   "outputs": [
    {
     "data": {
      "text/plain": [
       "(9, 20)"
      ]
     },
     "execution_count": 12,
     "metadata": {},
     "output_type": "execute_result"
    }
   ],
   "source": [
    "train[train['ClientPeriod'] == 0].shape"
   ]
  },
  {
   "cell_type": "markdown",
   "id": "c30403af",
   "metadata": {
    "papermill": {
     "duration": 0.022176,
     "end_time": "2022-10-17T15:01:27.190661",
     "exception": false,
     "start_time": "2022-10-17T15:01:27.168485",
     "status": "completed"
    },
    "tags": []
   },
   "source": [
    "Всего таких значений 9 и это как раз те 9 фичей, которые мы нашли выше<br>\n",
    "Проверим нашу теорию:"
   ]
  },
  {
   "cell_type": "code",
   "execution_count": 13,
   "id": "1ba962a6",
   "metadata": {
    "execution": {
     "iopub.execute_input": "2022-10-17T15:01:27.236675Z",
     "iopub.status.busy": "2022-10-17T15:01:27.235865Z",
     "iopub.status.idle": "2022-10-17T15:01:27.245051Z",
     "shell.execute_reply": "2022-10-17T15:01:27.244177Z"
    },
    "papermill": {
     "duration": 0.034646,
     "end_time": "2022-10-17T15:01:27.247253",
     "exception": false,
     "start_time": "2022-10-17T15:01:27.212607",
     "status": "completed"
    },
    "tags": []
   },
   "outputs": [
    {
     "data": {
      "text/plain": [
       "array([ True,  True,  True,  True,  True,  True,  True,  True,  True])"
      ]
     },
     "execution_count": 13,
     "metadata": {},
     "output_type": "execute_result"
    }
   ],
   "source": [
    "train[train.TotalSpent == ' '].index == train[train['ClientPeriod'] == 0].index"
   ]
  },
  {
   "cell_type": "markdown",
   "id": "b5f0cabb",
   "metadata": {
    "papermill": {
     "duration": 0.021904,
     "end_time": "2022-10-17T15:01:27.291064",
     "exception": false,
     "start_time": "2022-10-17T15:01:27.269160",
     "status": "completed"
    },
    "tags": []
   },
   "source": [
    "Возращаемый массив заполнен True -> наша теория верна"
   ]
  },
  {
   "cell_type": "markdown",
   "id": "2aba556e",
   "metadata": {
    "papermill": {
     "duration": 0.021518,
     "end_time": "2022-10-17T15:01:27.334265",
     "exception": false,
     "start_time": "2022-10-17T15:01:27.312747",
     "status": "completed"
    },
    "tags": []
   },
   "source": [
    "Заполним пробелы нулями"
   ]
  },
  {
   "cell_type": "code",
   "execution_count": 14,
   "id": "536cfda7",
   "metadata": {
    "execution": {
     "iopub.execute_input": "2022-10-17T15:01:27.382232Z",
     "iopub.status.busy": "2022-10-17T15:01:27.381406Z",
     "iopub.status.idle": "2022-10-17T15:01:27.389730Z",
     "shell.execute_reply": "2022-10-17T15:01:27.388807Z"
    },
    "papermill": {
     "duration": 0.035452,
     "end_time": "2022-10-17T15:01:27.392349",
     "exception": false,
     "start_time": "2022-10-17T15:01:27.356897",
     "status": "completed"
    },
    "tags": []
   },
   "outputs": [],
   "source": [
    "train.replace(' ', 0, inplace=True)"
   ]
  },
  {
   "cell_type": "markdown",
   "id": "7acd29b6",
   "metadata": {
    "papermill": {
     "duration": 0.021791,
     "end_time": "2022-10-17T15:01:27.436205",
     "exception": false,
     "start_time": "2022-10-17T15:01:27.414414",
     "status": "completed"
    },
    "tags": []
   },
   "source": [
    "Приведем признак к типу float"
   ]
  },
  {
   "cell_type": "code",
   "execution_count": 15,
   "id": "edd377a8",
   "metadata": {
    "execution": {
     "iopub.execute_input": "2022-10-17T15:01:27.482138Z",
     "iopub.status.busy": "2022-10-17T15:01:27.481326Z",
     "iopub.status.idle": "2022-10-17T15:01:27.488208Z",
     "shell.execute_reply": "2022-10-17T15:01:27.487277Z"
    },
    "papermill": {
     "duration": 0.032373,
     "end_time": "2022-10-17T15:01:27.490495",
     "exception": false,
     "start_time": "2022-10-17T15:01:27.458122",
     "status": "completed"
    },
    "tags": []
   },
   "outputs": [],
   "source": [
    "train['TotalSpent'] = train['TotalSpent'].astype(float)"
   ]
  },
  {
   "cell_type": "markdown",
   "id": "0f64a2f2",
   "metadata": {
    "papermill": {
     "duration": 0.021702,
     "end_time": "2022-10-17T15:01:27.534095",
     "exception": false,
     "start_time": "2022-10-17T15:01:27.512393",
     "status": "completed"
    },
    "tags": []
   },
   "source": [
    "Проверим есть ли пробелы в тестовой выборке"
   ]
  },
  {
   "cell_type": "code",
   "execution_count": 16,
   "id": "a2fec83d",
   "metadata": {
    "execution": {
     "iopub.execute_input": "2022-10-17T15:01:27.579984Z",
     "iopub.status.busy": "2022-10-17T15:01:27.579052Z",
     "iopub.status.idle": "2022-10-17T15:01:27.594962Z",
     "shell.execute_reply": "2022-10-17T15:01:27.593409Z"
    },
    "papermill": {
     "duration": 0.041484,
     "end_time": "2022-10-17T15:01:27.597498",
     "exception": false,
     "start_time": "2022-10-17T15:01:27.556014",
     "status": "completed"
    },
    "tags": []
   },
   "outputs": [
    {
     "name": "stdout",
     "output_type": "stream",
     "text": [
      "<class 'pandas.core.frame.DataFrame'>\n",
      "RangeIndex: 1761 entries, 0 to 1760\n",
      "Data columns (total 19 columns):\n",
      " #   Column                    Non-Null Count  Dtype  \n",
      "---  ------                    --------------  -----  \n",
      " 0   ClientPeriod              1761 non-null   int64  \n",
      " 1   MonthlySpending           1761 non-null   float64\n",
      " 2   TotalSpent                1761 non-null   object \n",
      " 3   Sex                       1761 non-null   object \n",
      " 4   IsSeniorCitizen           1761 non-null   int64  \n",
      " 5   HasPartner                1761 non-null   object \n",
      " 6   HasChild                  1761 non-null   object \n",
      " 7   HasPhoneService           1761 non-null   object \n",
      " 8   HasMultiplePhoneNumbers   1761 non-null   object \n",
      " 9   HasInternetService        1761 non-null   object \n",
      " 10  HasOnlineSecurityService  1761 non-null   object \n",
      " 11  HasOnlineBackup           1761 non-null   object \n",
      " 12  HasDeviceProtection       1761 non-null   object \n",
      " 13  HasTechSupportAccess      1761 non-null   object \n",
      " 14  HasOnlineTV               1761 non-null   object \n",
      " 15  HasMovieSubscription      1761 non-null   object \n",
      " 16  HasContractPhone          1761 non-null   object \n",
      " 17  IsBillingPaperless        1761 non-null   object \n",
      " 18  PaymentMethod             1761 non-null   object \n",
      "dtypes: float64(1), int64(2), object(16)\n",
      "memory usage: 261.5+ KB\n"
     ]
    }
   ],
   "source": [
    "test.info()"
   ]
  },
  {
   "cell_type": "code",
   "execution_count": 17,
   "id": "bf52e4ca",
   "metadata": {
    "execution": {
     "iopub.execute_input": "2022-10-17T15:01:27.645291Z",
     "iopub.status.busy": "2022-10-17T15:01:27.644064Z",
     "iopub.status.idle": "2022-10-17T15:01:27.653047Z",
     "shell.execute_reply": "2022-10-17T15:01:27.651877Z"
    },
    "papermill": {
     "duration": 0.034688,
     "end_time": "2022-10-17T15:01:27.655638",
     "exception": false,
     "start_time": "2022-10-17T15:01:27.620950",
     "status": "completed"
    },
    "tags": []
   },
   "outputs": [
    {
     "data": {
      "text/plain": [
       "Int64Index([177, 767], dtype='int64')"
      ]
     },
     "execution_count": 17,
     "metadata": {},
     "output_type": "execute_result"
    }
   ],
   "source": [
    "test[test.TotalSpent == ' '].index"
   ]
  },
  {
   "cell_type": "markdown",
   "id": "6d085752",
   "metadata": {
    "papermill": {
     "duration": 0.02361,
     "end_time": "2022-10-17T15:01:27.702256",
     "exception": false,
     "start_time": "2022-10-17T15:01:27.678646",
     "status": "completed"
    },
    "tags": []
   },
   "source": [
    "Также заполним их нулями и приведем к типу float"
   ]
  },
  {
   "cell_type": "code",
   "execution_count": 18,
   "id": "af2f5081",
   "metadata": {
    "execution": {
     "iopub.execute_input": "2022-10-17T15:01:27.749440Z",
     "iopub.status.busy": "2022-10-17T15:01:27.748984Z",
     "iopub.status.idle": "2022-10-17T15:01:27.758725Z",
     "shell.execute_reply": "2022-10-17T15:01:27.757660Z"
    },
    "papermill": {
     "duration": 0.035253,
     "end_time": "2022-10-17T15:01:27.760768",
     "exception": false,
     "start_time": "2022-10-17T15:01:27.725515",
     "status": "completed"
    },
    "tags": []
   },
   "outputs": [],
   "source": [
    "test.replace(' ', 0, inplace=True)\n",
    "test['TotalSpent'] = test['TotalSpent'].astype(float)"
   ]
  },
  {
   "cell_type": "markdown",
   "id": "f5ddb51b",
   "metadata": {
    "papermill": {
     "duration": 0.021847,
     "end_time": "2022-10-17T15:01:27.804985",
     "exception": false,
     "start_time": "2022-10-17T15:01:27.783138",
     "status": "completed"
    },
    "tags": []
   },
   "source": [
    "Посмотрим сколько уникальных значений в каждом признаке"
   ]
  },
  {
   "cell_type": "code",
   "execution_count": 19,
   "id": "8ce8ba7b",
   "metadata": {
    "execution": {
     "iopub.execute_input": "2022-10-17T15:01:27.851177Z",
     "iopub.status.busy": "2022-10-17T15:01:27.850757Z",
     "iopub.status.idle": "2022-10-17T15:01:27.872041Z",
     "shell.execute_reply": "2022-10-17T15:01:27.870832Z"
    },
    "papermill": {
     "duration": 0.046937,
     "end_time": "2022-10-17T15:01:27.874256",
     "exception": false,
     "start_time": "2022-10-17T15:01:27.827319",
     "status": "completed"
    },
    "tags": []
   },
   "outputs": [
    {
     "data": {
      "text/plain": [
       "ClientPeriod                  73\n",
       "MonthlySpending             1468\n",
       "TotalSpent                  4978\n",
       "Sex                            2\n",
       "IsSeniorCitizen                2\n",
       "HasPartner                     2\n",
       "HasChild                       2\n",
       "HasPhoneService                2\n",
       "HasMultiplePhoneNumbers        3\n",
       "HasInternetService             3\n",
       "HasOnlineSecurityService       3\n",
       "HasOnlineBackup                3\n",
       "HasDeviceProtection            3\n",
       "HasTechSupportAccess           3\n",
       "HasOnlineTV                    3\n",
       "HasMovieSubscription           3\n",
       "HasContractPhone               3\n",
       "IsBillingPaperless             2\n",
       "PaymentMethod                  4\n",
       "Churn                          2\n",
       "dtype: int64"
      ]
     },
     "execution_count": 19,
     "metadata": {},
     "output_type": "execute_result"
    }
   ],
   "source": [
    "train.nunique()"
   ]
  },
  {
   "cell_type": "markdown",
   "id": "9881bfd2",
   "metadata": {
    "papermill": {
     "duration": 0.023173,
     "end_time": "2022-10-17T15:01:27.920636",
     "exception": false,
     "start_time": "2022-10-17T15:01:27.897463",
     "status": "completed"
    },
    "tags": []
   },
   "source": [
    "## Анализ данных (3 балла)"
   ]
  },
  {
   "cell_type": "markdown",
   "id": "4c81a683",
   "metadata": {
    "papermill": {
     "duration": 0.02201,
     "end_time": "2022-10-17T15:01:27.966148",
     "exception": false,
     "start_time": "2022-10-17T15:01:27.944138",
     "status": "completed"
    },
    "tags": []
   },
   "source": [
    "1) Построим гистограмму для численных признаков\n",
    "разобьем нашу целевую переменную на \"ушел\"(1) и \"остался\""
   ]
  },
  {
   "cell_type": "code",
   "execution_count": 20,
   "id": "ecf54fc6",
   "metadata": {
    "execution": {
     "iopub.execute_input": "2022-10-17T15:01:28.013839Z",
     "iopub.status.busy": "2022-10-17T15:01:28.012594Z",
     "iopub.status.idle": "2022-10-17T15:01:28.023548Z",
     "shell.execute_reply": "2022-10-17T15:01:28.022640Z"
    },
    "papermill": {
     "duration": 0.037068,
     "end_time": "2022-10-17T15:01:28.026117",
     "exception": false,
     "start_time": "2022-10-17T15:01:27.989049",
     "status": "completed"
    },
    "tags": []
   },
   "outputs": [],
   "source": [
    "gone_1 = train[train[target_col] == 1]\n",
    "stay_0 = train[train[target_col] == 0]"
   ]
  },
  {
   "cell_type": "code",
   "execution_count": 21,
   "id": "42338b35",
   "metadata": {
    "execution": {
     "iopub.execute_input": "2022-10-17T15:01:28.073264Z",
     "iopub.status.busy": "2022-10-17T15:01:28.072585Z",
     "iopub.status.idle": "2022-10-17T15:01:28.915259Z",
     "shell.execute_reply": "2022-10-17T15:01:28.914261Z"
    },
    "papermill": {
     "duration": 0.869325,
     "end_time": "2022-10-17T15:01:28.917808",
     "exception": false,
     "start_time": "2022-10-17T15:01:28.048483",
     "status": "completed"
    },
    "tags": []
   },
   "outputs": [
    {
     "data": {
      "image/png": "[encoded data removed]",
      "text/plain": [
       "<Figure size 1296x288 with 3 Axes>"
      ]
     },
     "metadata": {
      "needs_background": "light"
     },
     "output_type": "display_data"
    }
   ],
   "source": [
    "fig, axes = plt.subplots(ncols=3, figsize=(18, 4))\n",
    "fig.suptitle('Гистограмма для численных признаков', fontsize=15)\n",
    "for i, num_col in enumerate(num_cols):\n",
    "    axes[i].hist(x=gone_1[num_col], bins=18, density=True, alpha=0.5, label='ушел', edgecolor='black', color='purple')\n",
    "    axes[i].hist(x=stay_0[num_col], bins=18, density=True, alpha=0.5, label='остался', edgecolor='black', color='white')\n",
    "    axes[i].set(xlabel = num_col) #подписать столбцы(признаки) у каждого графика\n",
    "    axes[i].legend()\n"
   ]
  },
  {
   "cell_type": "markdown",
   "id": "ed8af0be",
   "metadata": {
    "papermill": {
     "duration": 0.022582,
     "end_time": "2022-10-17T15:01:28.963675",
     "exception": false,
     "start_time": "2022-10-17T15:01:28.941093",
     "status": "completed"
    },
    "tags": []
   },
   "source": [
    "Теперь посмотрим на категориальные и биноминальное распределение признаков"
   ]
  },
  {
   "cell_type": "code",
   "execution_count": 22,
   "id": "0fb1aac3",
   "metadata": {
    "execution": {
     "iopub.execute_input": "2022-10-17T15:01:29.012670Z",
     "iopub.status.busy": "2022-10-17T15:01:29.012234Z",
     "iopub.status.idle": "2022-10-17T15:01:32.770114Z",
     "shell.execute_reply": "2022-10-17T15:01:32.769219Z"
    },
    "papermill": {
     "duration": 3.788965,
     "end_time": "2022-10-17T15:01:32.775827",
     "exception": false,
     "start_time": "2022-10-17T15:01:28.986862",
     "status": "completed"
    },
    "tags": []
   },
   "outputs": [
    {
     "data": {
      "image/png": "[encoded data removed]",
      "text/plain": [
       "<Figure size 1800x1800 with 16 Axes>"
      ]
     },
     "metadata": {
      "needs_background": "light"
     },
     "output_type": "display_data"
    }
   ],
   "source": [
    "fig, axes = plt.subplots(nrows=4, ncols=4, figsize=(25, 25))\n",
    "ax = axes.ravel()\n",
    "fig.suptitle('Категориальных и бинарных признаки', fontsize=15)\n",
    "for i, cat in enumerate(cat_cols):\n",
    "    x = train[cat].value_counts() #признаки\n",
    "    index = x.index #наименования в признаках\n",
    "    ax[i].pie(frame=True, x=x, labels=index, colors=['pink', '#e86f75', '#d199ff', '#b8d3ff'], labeldistance = 0.5,shadow=True)\n",
    "    ax[i].set_title(cat)"
   ]
  },
  {
   "cell_type": "markdown",
   "id": "494d2979",
   "metadata": {
    "papermill": {
     "duration": 0.028528,
     "end_time": "2022-10-17T15:01:32.832663",
     "exception": false,
     "start_time": "2022-10-17T15:01:32.804135",
     "status": "completed"
    },
    "tags": []
   },
   "source": [
    "Расмотрим распеределение классов целевой переменной:"
   ]
  },
  {
   "cell_type": "code",
   "execution_count": 23,
   "id": "5d759068",
   "metadata": {
    "execution": {
     "iopub.execute_input": "2022-10-17T15:01:32.890647Z",
     "iopub.status.busy": "2022-10-17T15:01:32.890183Z",
     "iopub.status.idle": "2022-10-17T15:01:32.899128Z",
     "shell.execute_reply": "2022-10-17T15:01:32.897942Z"
    },
    "papermill": {
     "duration": 0.04116,
     "end_time": "2022-10-17T15:01:32.901681",
     "exception": false,
     "start_time": "2022-10-17T15:01:32.860521",
     "status": "completed"
    },
    "tags": []
   },
   "outputs": [
    {
     "data": {
      "text/plain": [
       "0    3898\n",
       "1    1384\n",
       "Name: Churn, dtype: int64"
      ]
     },
     "execution_count": 23,
     "metadata": {},
     "output_type": "execute_result"
    }
   ],
   "source": [
    "train[target_col].value_counts()"
   ]
  },
  {
   "cell_type": "code",
   "execution_count": 24,
   "id": "b569165f",
   "metadata": {
    "execution": {
     "iopub.execute_input": "2022-10-17T15:01:32.960630Z",
     "iopub.status.busy": "2022-10-17T15:01:32.959898Z",
     "iopub.status.idle": "2022-10-17T15:01:33.077525Z",
     "shell.execute_reply": "2022-10-17T15:01:33.075706Z"
    },
    "papermill": {
     "duration": 0.151498,
     "end_time": "2022-10-17T15:01:33.081900",
     "exception": false,
     "start_time": "2022-10-17T15:01:32.930402",
     "status": "completed"
    },
    "tags": []
   },
   "outputs": [
    {
     "data": {
      "image/png": "[encoded data removed]",
      "text/plain": [
       "<Figure size 432x288 with 1 Axes>"
      ]
     },
     "metadata": {},
     "output_type": "display_data"
    }
   ],
   "source": [
    "def count_pr(x):\n",
    "    return '{:.4f}%\\n({:.0f})'.format(x, total*x/100)\n",
    "\n",
    "v_counts = train[target_col].value_counts()\n",
    "total = len(train[target_col])\n",
    "plt.pie(v_counts, labels=[\"остался\", \"ушел\"], autopct=count_pr, colors=['#d199ff', '#b8d3ff'], shadow=True);"
   ]
  },
  {
   "cell_type": "markdown",
   "id": "9ac8f13e",
   "metadata": {
    "papermill": {
     "duration": 0.031541,
     "end_time": "2022-10-17T15:01:33.185070",
     "exception": false,
     "start_time": "2022-10-17T15:01:33.153529",
     "status": "completed"
    },
    "tags": []
   },
   "source": [
    "Вывод: классы не являются сбалансированными -> В таких случаях нужно 1) не использовать accuracy как метрику 2) использовать методы борьбы с imbalanced dataset (обычно если датасет сильно несбалансирован, т.е. класса 1 в 20 раз меньше класса 0)."
   ]
  },
  {
   "cell_type": "markdown",
   "id": "396cd00d",
   "metadata": {
    "papermill": {
     "duration": 0.028327,
     "end_time": "2022-10-17T15:01:33.243270",
     "exception": false,
     "start_time": "2022-10-17T15:01:33.214943",
     "status": "completed"
    },
    "tags": []
   },
   "source": [
    "## Применение линейных моделей (3 балла)"
   ]
  },
  {
   "cell_type": "code",
   "execution_count": 25,
   "id": "85441b36",
   "metadata": {
    "execution": {
     "iopub.execute_input": "2022-10-17T15:01:33.302300Z",
     "iopub.status.busy": "2022-10-17T15:01:33.301871Z",
     "iopub.status.idle": "2022-10-17T15:01:33.409995Z",
     "shell.execute_reply": "2022-10-17T15:01:33.408406Z"
    },
    "papermill": {
     "duration": 0.140789,
     "end_time": "2022-10-17T15:01:33.412781",
     "exception": false,
     "start_time": "2022-10-17T15:01:33.271992",
     "status": "completed"
    },
    "tags": []
   },
   "outputs": [],
   "source": [
    "from sklearn.linear_model import LogisticRegression, LogisticRegressionCV\n",
    "from sklearn.model_selection import train_test_split, GridSearchCV\n",
    "from sklearn.preprocessing import StandardScaler, RobustScaler, LabelEncoder, OneHotEncoder\n",
    "from sklearn.pipeline import make_pipeline"
   ]
  },
  {
   "cell_type": "code",
   "execution_count": 26,
   "id": "f9a86d96",
   "metadata": {
    "execution": {
     "iopub.execute_input": "2022-10-17T15:01:33.471826Z",
     "iopub.status.busy": "2022-10-17T15:01:33.471068Z",
     "iopub.status.idle": "2022-10-17T15:01:33.481721Z",
     "shell.execute_reply": "2022-10-17T15:01:33.480811Z"
    },
    "papermill": {
     "duration": 0.043032,
     "end_time": "2022-10-17T15:01:33.484166",
     "exception": false,
     "start_time": "2022-10-17T15:01:33.441134",
     "status": "completed"
    },
    "tags": []
   },
   "outputs": [],
   "source": [
    "from sklearn.compose import ColumnTransformer\n",
    "from sklearn.pipeline import Pipeline"
   ]
  },
  {
   "cell_type": "code",
   "execution_count": 27,
   "id": "fc0221ca",
   "metadata": {
    "execution": {
     "iopub.execute_input": "2022-10-17T15:01:33.543270Z",
     "iopub.status.busy": "2022-10-17T15:01:33.542555Z",
     "iopub.status.idle": "2022-10-17T15:01:33.549365Z",
     "shell.execute_reply": "2022-10-17T15:01:33.548409Z"
    },
    "papermill": {
     "duration": 0.038882,
     "end_time": "2022-10-17T15:01:33.551640",
     "exception": false,
     "start_time": "2022-10-17T15:01:33.512758",
     "status": "completed"
    },
    "tags": []
   },
   "outputs": [],
   "source": [
    "#создадим копии непредобработанных данных для catboost\n",
    "y_train = train[target_col]\n",
    "X_train = train.drop(target_col, axis=1)"
   ]
  },
  {
   "cell_type": "markdown",
   "id": "83b0338a",
   "metadata": {
    "papermill": {
     "duration": 0.02832,
     "end_time": "2022-10-17T15:01:33.608622",
     "exception": false,
     "start_time": "2022-10-17T15:01:33.580302",
     "status": "completed"
    },
    "tags": []
   },
   "source": [
    "### **Логистическая регрессия**"
   ]
  },
  {
   "cell_type": "markdown",
   "id": "a024e495",
   "metadata": {
    "papermill": {
     "duration": 0.027913,
     "end_time": "2022-10-17T15:01:33.664861",
     "exception": false,
     "start_time": "2022-10-17T15:01:33.636948",
     "status": "completed"
    },
    "tags": []
   },
   "source": [
    "Перейдем к предобработке данных<br>\n",
    "Для численных значений используем StandardScaler<br>\n",
    "Категориальные разобьем с помощью OneHotEncoder"
   ]
  },
  {
   "cell_type": "code",
   "execution_count": 28,
   "id": "64e71582",
   "metadata": {
    "execution": {
     "iopub.execute_input": "2022-10-17T15:01:33.723136Z",
     "iopub.status.busy": "2022-10-17T15:01:33.722740Z",
     "iopub.status.idle": "2022-10-17T15:01:33.728212Z",
     "shell.execute_reply": "2022-10-17T15:01:33.727081Z"
    },
    "papermill": {
     "duration": 0.037482,
     "end_time": "2022-10-17T15:01:33.730550",
     "exception": false,
     "start_time": "2022-10-17T15:01:33.693068",
     "status": "completed"
    },
    "tags": []
   },
   "outputs": [],
   "source": [
    "prepare_data = ColumnTransformer([\n",
    "        (\"num\", StandardScaler(), num_cols),\n",
    "        (\"cat\", OneHotEncoder(), cat_cols)\n",
    "    ])"
   ]
  },
  {
   "cell_type": "markdown",
   "id": "44354b6e",
   "metadata": {
    "papermill": {
     "duration": 0.028239,
     "end_time": "2022-10-17T15:01:33.787335",
     "exception": false,
     "start_time": "2022-10-17T15:01:33.759096",
     "status": "completed"
    },
    "tags": []
   },
   "source": [
    "Создадим экземпляр модели с помощью pipeline<br>\n",
    "Подбор параметров и кросс-валидацию проведем в GridSearchCV()"
   ]
  },
  {
   "cell_type": "code",
   "execution_count": 29,
   "id": "f24e7da0",
   "metadata": {
    "execution": {
     "iopub.execute_input": "2022-10-17T15:01:33.847780Z",
     "iopub.status.busy": "2022-10-17T15:01:33.847333Z",
     "iopub.status.idle": "2022-10-17T15:01:33.852554Z",
     "shell.execute_reply": "2022-10-17T15:01:33.851648Z"
    },
    "papermill": {
     "duration": 0.038573,
     "end_time": "2022-10-17T15:01:33.854734",
     "exception": false,
     "start_time": "2022-10-17T15:01:33.816161",
     "status": "completed"
    },
    "tags": []
   },
   "outputs": [],
   "source": [
    "do_pipeline = Pipeline([\n",
    "        (\"preparation\", prepare_data),\n",
    "        (\"linear\", LogisticRegression(solver = 'liblinear', random_state=42))\n",
    "    ])"
   ]
  },
  {
   "cell_type": "code",
   "execution_count": 30,
   "id": "5a9af891",
   "metadata": {
    "execution": {
     "iopub.execute_input": "2022-10-17T15:01:33.914821Z",
     "iopub.status.busy": "2022-10-17T15:01:33.914196Z",
     "iopub.status.idle": "2022-10-17T15:01:33.919184Z",
     "shell.execute_reply": "2022-10-17T15:01:33.918429Z"
    },
    "papermill": {
     "duration": 0.037662,
     "end_time": "2022-10-17T15:01:33.921396",
     "exception": false,
     "start_time": "2022-10-17T15:01:33.883734",
     "status": "completed"
    },
    "tags": []
   },
   "outputs": [],
   "source": [
    "param_grid = [\n",
    "        {'linear__penalty':['l1', 'l2'],\n",
    "         'linear__C':[120, 100, 10, 1, 0.1, 0.01, 0.001]\n",
    "         }\n",
    "    ]\n",
    "\n",
    "grid_search1 = GridSearchCV(do_pipeline, param_grid, scoring='roc_auc', verbose=2, refit=True, n_jobs=-1)"
   ]
  },
  {
   "cell_type": "code",
   "execution_count": 31,
   "id": "1a29e23e",
   "metadata": {
    "execution": {
     "iopub.execute_input": "2022-10-17T15:01:33.980708Z",
     "iopub.status.busy": "2022-10-17T15:01:33.980265Z",
     "iopub.status.idle": "2022-10-17T15:01:43.610642Z",
     "shell.execute_reply": "2022-10-17T15:01:43.609233Z"
    },
    "papermill": {
     "duration": 9.663287,
     "end_time": "2022-10-17T15:01:43.613457",
     "exception": false,
     "start_time": "2022-10-17T15:01:33.950170",
     "status": "completed"
    },
    "tags": []
   },
   "outputs": [
    {
     "name": "stdout",
     "output_type": "stream",
     "text": [
      "Fitting 5 folds for each of 14 candidates, totalling 70 fits\n"
     ]
    }
   ],
   "source": [
    "logreg = grid_search1.fit(train[feature_cols], train[target_col])"
   ]
  },
  {
   "cell_type": "code",
   "execution_count": 32,
   "id": "4813a7e7",
   "metadata": {
    "execution": {
     "iopub.execute_input": "2022-10-17T15:01:43.672347Z",
     "iopub.status.busy": "2022-10-17T15:01:43.671932Z",
     "iopub.status.idle": "2022-10-17T15:01:43.681136Z",
     "shell.execute_reply": "2022-10-17T15:01:43.679626Z"
    },
    "papermill": {
     "duration": 0.041493,
     "end_time": "2022-10-17T15:01:43.683480",
     "exception": false,
     "start_time": "2022-10-17T15:01:43.641987",
     "status": "completed"
    },
    "tags": []
   },
   "outputs": [
    {
     "name": "stdout",
     "output_type": "stream",
     "text": [
      "Лучшие параметры: \n"
     ]
    },
    {
     "data": {
      "text/plain": [
       "{'linear__C': 120, 'linear__penalty': 'l1'}"
      ]
     },
     "execution_count": 32,
     "metadata": {},
     "output_type": "execute_result"
    }
   ],
   "source": [
    "print(\"Лучшие параметры: \")\n",
    "logreg.best_params_"
   ]
  },
  {
   "cell_type": "code",
   "execution_count": 33,
   "id": "4036b0c1",
   "metadata": {
    "execution": {
     "iopub.execute_input": "2022-10-17T15:01:43.743006Z",
     "iopub.status.busy": "2022-10-17T15:01:43.742568Z",
     "iopub.status.idle": "2022-10-17T15:01:43.751049Z",
     "shell.execute_reply": "2022-10-17T15:01:43.749450Z"
    },
    "papermill": {
     "duration": 0.040777,
     "end_time": "2022-10-17T15:01:43.753119",
     "exception": false,
     "start_time": "2022-10-17T15:01:43.712342",
     "status": "completed"
    },
    "tags": []
   },
   "outputs": [
    {
     "name": "stdout",
     "output_type": "stream",
     "text": [
      "Его скор: \n"
     ]
    },
    {
     "data": {
      "text/plain": [
       "0.8451287829199179"
      ]
     },
     "execution_count": 33,
     "metadata": {},
     "output_type": "execute_result"
    }
   ],
   "source": [
    "print(\"Его скор: \")\n",
    "logreg.best_score_"
   ]
  },
  {
   "cell_type": "markdown",
   "id": "1eebd870",
   "metadata": {
    "papermill": {
     "duration": 0.028666,
     "end_time": "2022-10-17T15:01:43.810586",
     "exception": false,
     "start_time": "2022-10-17T15:01:43.781920",
     "status": "completed"
    },
    "tags": []
   },
   "source": [
    "#### <strong>Теперь обчим на elasticnet</strong>"
   ]
  },
  {
   "cell_type": "code",
   "execution_count": 34,
   "id": "0601fcd4",
   "metadata": {
    "execution": {
     "iopub.execute_input": "2022-10-17T15:01:43.870130Z",
     "iopub.status.busy": "2022-10-17T15:01:43.869710Z",
     "iopub.status.idle": "2022-10-17T15:01:43.876889Z",
     "shell.execute_reply": "2022-10-17T15:01:43.875615Z"
    },
    "papermill": {
     "duration": 0.040204,
     "end_time": "2022-10-17T15:01:43.879369",
     "exception": false,
     "start_time": "2022-10-17T15:01:43.839165",
     "status": "completed"
    },
    "tags": []
   },
   "outputs": [],
   "source": [
    "do_pipeline2 = Pipeline([\n",
    "        (\"preparation\", prepare_data),\n",
    "        (\"linear\", LogisticRegression(solver = 'saga', random_state=42, l1_ratio=1))\n",
    "    ])\n",
    "\n",
    "C2 = [120, 100]\n",
    "param_grid2 = [\n",
    "        {'linear__penalty': ['elasticnet'],\n",
    "         'linear__C': C2\n",
    "         }\n",
    "    ]\n",
    "\n",
    "grid_search2 = GridSearchCV(do_pipeline2, param_grid2, scoring='roc_auc',  refit=True, n_jobs=-1)"
   ]
  },
  {
   "cell_type": "code",
   "execution_count": 35,
   "id": "155d229f",
   "metadata": {
    "execution": {
     "iopub.execute_input": "2022-10-17T15:01:43.941112Z",
     "iopub.status.busy": "2022-10-17T15:01:43.940609Z",
     "iopub.status.idle": "2022-10-17T15:01:46.750491Z",
     "shell.execute_reply": "2022-10-17T15:01:46.748895Z"
    },
    "papermill": {
     "duration": 2.843452,
     "end_time": "2022-10-17T15:01:46.752967",
     "exception": false,
     "start_time": "2022-10-17T15:01:43.909515",
     "status": "completed"
    },
    "tags": []
   },
   "outputs": [
    {
     "name": "stdout",
     "output_type": "stream",
     "text": [
      "Обучение модели elasticnet завершено\n"
     ]
    }
   ],
   "source": [
    "logreg2 = grid_search2.fit(train[feature_cols], train[target_col])\n",
    "print('Обучение модели elasticnet завершено')"
   ]
  },
  {
   "cell_type": "code",
   "execution_count": 36,
   "id": "f5dc3e9b",
   "metadata": {
    "execution": {
     "iopub.execute_input": "2022-10-17T15:01:46.813405Z",
     "iopub.status.busy": "2022-10-17T15:01:46.812663Z",
     "iopub.status.idle": "2022-10-17T15:01:46.819399Z",
     "shell.execute_reply": "2022-10-17T15:01:46.818493Z"
    },
    "papermill": {
     "duration": 0.039029,
     "end_time": "2022-10-17T15:01:46.821435",
     "exception": false,
     "start_time": "2022-10-17T15:01:46.782406",
     "status": "completed"
    },
    "tags": []
   },
   "outputs": [
    {
     "name": "stdout",
     "output_type": "stream",
     "text": [
      "Лучшие параметры: \n"
     ]
    },
    {
     "data": {
      "text/plain": [
       "{'linear__C': 120, 'linear__penalty': 'elasticnet'}"
      ]
     },
     "execution_count": 36,
     "metadata": {},
     "output_type": "execute_result"
    }
   ],
   "source": [
    "print(\"Лучшие параметры: \")\n",
    "logreg2.best_params_"
   ]
  },
  {
   "cell_type": "code",
   "execution_count": 37,
   "id": "07385c3d",
   "metadata": {
    "execution": {
     "iopub.execute_input": "2022-10-17T15:01:46.881599Z",
     "iopub.status.busy": "2022-10-17T15:01:46.881129Z",
     "iopub.status.idle": "2022-10-17T15:01:46.888880Z",
     "shell.execute_reply": "2022-10-17T15:01:46.887517Z"
    },
    "papermill": {
     "duration": 0.040851,
     "end_time": "2022-10-17T15:01:46.891149",
     "exception": false,
     "start_time": "2022-10-17T15:01:46.850298",
     "status": "completed"
    },
    "tags": []
   },
   "outputs": [
    {
     "name": "stdout",
     "output_type": "stream",
     "text": [
      "Его скор: \n"
     ]
    },
    {
     "data": {
      "text/plain": [
       "0.8451269522609521"
      ]
     },
     "execution_count": 37,
     "metadata": {},
     "output_type": "execute_result"
    }
   ],
   "source": [
    "print(\"Его скор: \")\n",
    "logreg2.best_score_"
   ]
  },
  {
   "cell_type": "code",
   "execution_count": 38,
   "id": "06ddb46e",
   "metadata": {
    "execution": {
     "iopub.execute_input": "2022-10-17T15:01:46.952140Z",
     "iopub.status.busy": "2022-10-17T15:01:46.951334Z",
     "iopub.status.idle": "2022-10-17T15:01:46.958475Z",
     "shell.execute_reply": "2022-10-17T15:01:46.957046Z"
    },
    "papermill": {
     "duration": 0.040773,
     "end_time": "2022-10-17T15:01:46.960832",
     "exception": false,
     "start_time": "2022-10-17T15:01:46.920059",
     "status": "completed"
    },
    "tags": []
   },
   "outputs": [
    {
     "name": "stdout",
     "output_type": "stream",
     "text": [
      "Лучшие параметры линейной модели:\n",
      "{'linear__C': 120, 'linear__penalty': 'l1'}\n",
      "скор:  0.8451287829199179\n"
     ]
    }
   ],
   "source": [
    "print(\"Лучшие параметры линейной модели:\")\n",
    "if logreg.best_score_ > logreg2.best_score_:\n",
    "    print(logreg.best_params_)\n",
    "    print(\"скор: \", logreg.best_score_)\n",
    "else:\n",
    "    print(logreg2.best_params_)\n",
    "    print(\"скор: \", logreg2.best_score_)"
   ]
  },
  {
   "cell_type": "markdown",
   "id": "62bff440",
   "metadata": {
    "papermill": {
     "duration": 0.029428,
     "end_time": "2022-10-17T15:01:47.019320",
     "exception": false,
     "start_time": "2022-10-17T15:01:46.989892",
     "status": "completed"
    },
    "tags": []
   },
   "source": [
    "Линейная модель дала неплохой скор, но нужно попробовать и другие модели"
   ]
  },
  {
   "cell_type": "markdown",
   "id": "c4f6a3a2",
   "metadata": {
    "papermill": {
     "duration": 0.028838,
     "end_time": "2022-10-17T15:01:47.077543",
     "exception": false,
     "start_time": "2022-10-17T15:01:47.048705",
     "status": "completed"
    },
    "tags": []
   },
   "source": [
    "### **KNN**"
   ]
  },
  {
   "cell_type": "code",
   "execution_count": 39,
   "id": "560c8bc5",
   "metadata": {
    "execution": {
     "iopub.execute_input": "2022-10-17T15:01:47.138779Z",
     "iopub.status.busy": "2022-10-17T15:01:47.138354Z",
     "iopub.status.idle": "2022-10-17T15:01:47.209049Z",
     "shell.execute_reply": "2022-10-17T15:01:47.207774Z"
    },
    "papermill": {
     "duration": 0.104438,
     "end_time": "2022-10-17T15:01:47.211913",
     "exception": false,
     "start_time": "2022-10-17T15:01:47.107475",
     "status": "completed"
    },
    "tags": []
   },
   "outputs": [],
   "source": [
    "from sklearn.neighbors import KNeighborsClassifier\n",
    "\n",
    "knn_pipeline = Pipeline([\n",
    "        (\"preparation\", prepare_data),\n",
    "        (\"model\", KNeighborsClassifier())\n",
    "    ])\n",
    "\n",
    "knn_param_grid = [\n",
    "        {'model__n_neighbors': [44], # range(1, 50)\n",
    "         'model__weights':['uniform'], #'uniform', 'distance'\n",
    "         'model__metric': ['manhattan', 'braycurtis'],\n",
    "        }]\n",
    "\n",
    "grid_search3 = GridSearchCV(knn_pipeline, knn_param_grid, scoring='roc_auc', refit=True, n_jobs=-1)"
   ]
  },
  {
   "cell_type": "code",
   "execution_count": 40,
   "id": "86b88217",
   "metadata": {
    "execution": {
     "iopub.execute_input": "2022-10-17T15:01:47.272653Z",
     "iopub.status.busy": "2022-10-17T15:01:47.272189Z",
     "iopub.status.idle": "2022-10-17T15:01:48.585135Z",
     "shell.execute_reply": "2022-10-17T15:01:48.583849Z"
    },
    "papermill": {
     "duration": 1.346563,
     "end_time": "2022-10-17T15:01:48.587914",
     "exception": false,
     "start_time": "2022-10-17T15:01:47.241351",
     "status": "completed"
    },
    "tags": []
   },
   "outputs": [],
   "source": [
    "knn = grid_search3.fit(train[feature_cols], train[target_col])"
   ]
  },
  {
   "cell_type": "code",
   "execution_count": 41,
   "id": "bf79b35d",
   "metadata": {
    "execution": {
     "iopub.execute_input": "2022-10-17T15:01:48.648375Z",
     "iopub.status.busy": "2022-10-17T15:01:48.647942Z",
     "iopub.status.idle": "2022-10-17T15:01:48.656193Z",
     "shell.execute_reply": "2022-10-17T15:01:48.654708Z"
    },
    "papermill": {
     "duration": 0.041436,
     "end_time": "2022-10-17T15:01:48.658569",
     "exception": false,
     "start_time": "2022-10-17T15:01:48.617133",
     "status": "completed"
    },
    "tags": []
   },
   "outputs": [
    {
     "name": "stdout",
     "output_type": "stream",
     "text": [
      "Лучшие параметры: \n"
     ]
    },
    {
     "data": {
      "text/plain": [
       "{'model__metric': 'braycurtis',\n",
       " 'model__n_neighbors': 44,\n",
       " 'model__weights': 'uniform'}"
      ]
     },
     "execution_count": 41,
     "metadata": {},
     "output_type": "execute_result"
    }
   ],
   "source": [
    "print(\"Лучшие параметры: \")\n",
    "knn.best_params_"
   ]
  },
  {
   "cell_type": "code",
   "execution_count": 42,
   "id": "fa8225fe",
   "metadata": {
    "execution": {
     "iopub.execute_input": "2022-10-17T15:01:48.719385Z",
     "iopub.status.busy": "2022-10-17T15:01:48.718329Z",
     "iopub.status.idle": "2022-10-17T15:01:48.727565Z",
     "shell.execute_reply": "2022-10-17T15:01:48.725885Z"
    },
    "papermill": {
     "duration": 0.043557,
     "end_time": "2022-10-17T15:01:48.731248",
     "exception": false,
     "start_time": "2022-10-17T15:01:48.687691",
     "status": "completed"
    },
    "tags": []
   },
   "outputs": [
    {
     "name": "stdout",
     "output_type": "stream",
     "text": [
      "Его скор: \n"
     ]
    },
    {
     "data": {
      "text/plain": [
       "0.8333476760547661"
      ]
     },
     "execution_count": 42,
     "metadata": {},
     "output_type": "execute_result"
    }
   ],
   "source": [
    "print(\"Его скор: \")\n",
    "knn.best_score_"
   ]
  },
  {
   "cell_type": "markdown",
   "id": "de49c833",
   "metadata": {
    "papermill": {
     "duration": 0.02899,
     "end_time": "2022-10-17T15:01:48.790155",
     "exception": false,
     "start_time": "2022-10-17T15:01:48.761165",
     "status": "completed"
    },
    "tags": []
   },
   "source": [
    "### **GaussianNB**"
   ]
  },
  {
   "cell_type": "code",
   "execution_count": 43,
   "id": "bd961fc6",
   "metadata": {
    "execution": {
     "iopub.execute_input": "2022-10-17T15:01:48.850799Z",
     "iopub.status.busy": "2022-10-17T15:01:48.849920Z",
     "iopub.status.idle": "2022-10-17T15:01:48.857461Z",
     "shell.execute_reply": "2022-10-17T15:01:48.856627Z"
    },
    "papermill": {
     "duration": 0.040518,
     "end_time": "2022-10-17T15:01:48.859826",
     "exception": false,
     "start_time": "2022-10-17T15:01:48.819308",
     "status": "completed"
    },
    "tags": []
   },
   "outputs": [],
   "source": [
    "from sklearn.naive_bayes import GaussianNB"
   ]
  },
  {
   "cell_type": "code",
   "execution_count": 44,
   "id": "b7973e64",
   "metadata": {
    "execution": {
     "iopub.execute_input": "2022-10-17T15:01:48.920502Z",
     "iopub.status.busy": "2022-10-17T15:01:48.919554Z",
     "iopub.status.idle": "2022-10-17T15:01:48.926224Z",
     "shell.execute_reply": "2022-10-17T15:01:48.925480Z"
    },
    "papermill": {
     "duration": 0.039435,
     "end_time": "2022-10-17T15:01:48.928501",
     "exception": false,
     "start_time": "2022-10-17T15:01:48.889066",
     "status": "completed"
    },
    "tags": []
   },
   "outputs": [],
   "source": [
    "nb_pipeline = Pipeline([\n",
    "        (\"preparation\", prepare_data),\n",
    "        (\"model\", GaussianNB())\n",
    "    ])\n",
    "\n",
    "nb_param_grid = [\n",
    "        {'model__var_smoothing': [1e-7], #1e-7, 1e-8, 1e-9, 1e-10\n",
    "        }]\n",
    "\n",
    "grid_search4 = GridSearchCV(nb_pipeline, nb_param_grid, scoring='roc_auc', refit=True, n_jobs=-1)"
   ]
  },
  {
   "cell_type": "code",
   "execution_count": 45,
   "id": "b00bb78f",
   "metadata": {
    "execution": {
     "iopub.execute_input": "2022-10-17T15:01:48.990414Z",
     "iopub.status.busy": "2022-10-17T15:01:48.989149Z",
     "iopub.status.idle": "2022-10-17T15:01:49.219182Z",
     "shell.execute_reply": "2022-10-17T15:01:49.217924Z"
    },
    "papermill": {
     "duration": 0.264001,
     "end_time": "2022-10-17T15:01:49.222502",
     "exception": false,
     "start_time": "2022-10-17T15:01:48.958501",
     "status": "completed"
    },
    "tags": []
   },
   "outputs": [],
   "source": [
    "nb = grid_search4.fit(train[feature_cols], train[target_col])"
   ]
  },
  {
   "cell_type": "code",
   "execution_count": 46,
   "id": "6a9685e8",
   "metadata": {
    "execution": {
     "iopub.execute_input": "2022-10-17T15:01:49.283843Z",
     "iopub.status.busy": "2022-10-17T15:01:49.283405Z",
     "iopub.status.idle": "2022-10-17T15:01:49.292100Z",
     "shell.execute_reply": "2022-10-17T15:01:49.290446Z"
    },
    "papermill": {
     "duration": 0.04193,
     "end_time": "2022-10-17T15:01:49.294373",
     "exception": false,
     "start_time": "2022-10-17T15:01:49.252443",
     "status": "completed"
    },
    "tags": []
   },
   "outputs": [
    {
     "name": "stdout",
     "output_type": "stream",
     "text": [
      "Лучшие параметры: \n"
     ]
    },
    {
     "data": {
      "text/plain": [
       "{'model__var_smoothing': 1e-07}"
      ]
     },
     "execution_count": 46,
     "metadata": {},
     "output_type": "execute_result"
    }
   ],
   "source": [
    "print(\"Лучшие параметры: \")\n",
    "nb.best_params_"
   ]
  },
  {
   "cell_type": "code",
   "execution_count": 47,
   "id": "341b72ae",
   "metadata": {
    "execution": {
     "iopub.execute_input": "2022-10-17T15:01:49.356659Z",
     "iopub.status.busy": "2022-10-17T15:01:49.355397Z",
     "iopub.status.idle": "2022-10-17T15:01:49.363336Z",
     "shell.execute_reply": "2022-10-17T15:01:49.362103Z"
    },
    "papermill": {
     "duration": 0.041133,
     "end_time": "2022-10-17T15:01:49.365384",
     "exception": false,
     "start_time": "2022-10-17T15:01:49.324251",
     "status": "completed"
    },
    "tags": []
   },
   "outputs": [
    {
     "name": "stdout",
     "output_type": "stream",
     "text": [
      "Его скор: \n"
     ]
    },
    {
     "data": {
      "text/plain": [
       "0.8184093884745647"
      ]
     },
     "execution_count": 47,
     "metadata": {},
     "output_type": "execute_result"
    }
   ],
   "source": [
    "print(\"Его скор: \")\n",
    "nb.best_score_"
   ]
  },
  {
   "cell_type": "markdown",
   "id": "d81acf72",
   "metadata": {
    "papermill": {
     "duration": 0.029439,
     "end_time": "2022-10-17T15:01:49.424629",
     "exception": false,
     "start_time": "2022-10-17T15:01:49.395190",
     "status": "completed"
    },
    "tags": []
   },
   "source": [
    "### **Random Forest**"
   ]
  },
  {
   "cell_type": "code",
   "execution_count": 48,
   "id": "68f95865",
   "metadata": {
    "execution": {
     "iopub.execute_input": "2022-10-17T15:01:49.486939Z",
     "iopub.status.busy": "2022-10-17T15:01:49.485783Z",
     "iopub.status.idle": "2022-10-17T15:01:49.589801Z",
     "shell.execute_reply": "2022-10-17T15:01:49.588574Z"
    },
    "papermill": {
     "duration": 0.138411,
     "end_time": "2022-10-17T15:01:49.592750",
     "exception": false,
     "start_time": "2022-10-17T15:01:49.454339",
     "status": "completed"
    },
    "tags": []
   },
   "outputs": [],
   "source": [
    "from sklearn.ensemble import RandomForestClassifier"
   ]
  },
  {
   "cell_type": "code",
   "execution_count": 49,
   "id": "86cdb332",
   "metadata": {
    "execution": {
     "iopub.execute_input": "2022-10-17T15:01:49.654995Z",
     "iopub.status.busy": "2022-10-17T15:01:49.654578Z",
     "iopub.status.idle": "2022-10-17T15:01:49.661512Z",
     "shell.execute_reply": "2022-10-17T15:01:49.660286Z"
    },
    "papermill": {
     "duration": 0.040646,
     "end_time": "2022-10-17T15:01:49.663755",
     "exception": false,
     "start_time": "2022-10-17T15:01:49.623109",
     "status": "completed"
    },
    "tags": []
   },
   "outputs": [],
   "source": [
    "rf_pipeline = Pipeline([\n",
    "        (\"preparation\", prepare_data),\n",
    "        (\"model\", RandomForestClassifier(random_state=42))\n",
    "    ])\n",
    "\n",
    "rf_param_grid = [\n",
    "        {'model__n_estimators': [100], #100, 200, 300\n",
    "         'model__max_depth': [10], #2, 4, 5, 10, 15, 20, 30\n",
    "         'model__max_features': [10], #2,3,5,10, 15, 20, 30\n",
    "         'model__min_samples_leaf': [18], #range(1, 50)\n",
    "        }]\n",
    "\n",
    "grid_search5 = GridSearchCV(rf_pipeline, rf_param_grid, scoring='roc_auc', refit=True, n_jobs=-1)"
   ]
  },
  {
   "cell_type": "code",
   "execution_count": 50,
   "id": "5f234999",
   "metadata": {
    "execution": {
     "iopub.execute_input": "2022-10-17T15:01:49.725455Z",
     "iopub.status.busy": "2022-10-17T15:01:49.725013Z",
     "iopub.status.idle": "2022-10-17T15:01:51.920631Z",
     "shell.execute_reply": "2022-10-17T15:01:51.919641Z"
    },
    "papermill": {
     "duration": 2.230081,
     "end_time": "2022-10-17T15:01:51.923729",
     "exception": false,
     "start_time": "2022-10-17T15:01:49.693648",
     "status": "completed"
    },
    "tags": []
   },
   "outputs": [],
   "source": [
    "rf = grid_search5.fit(train[feature_cols], train[target_col])"
   ]
  },
  {
   "cell_type": "code",
   "execution_count": 51,
   "id": "cc60b9c7",
   "metadata": {
    "execution": {
     "iopub.execute_input": "2022-10-17T15:01:51.984968Z",
     "iopub.status.busy": "2022-10-17T15:01:51.984591Z",
     "iopub.status.idle": "2022-10-17T15:01:51.992602Z",
     "shell.execute_reply": "2022-10-17T15:01:51.991023Z"
    },
    "papermill": {
     "duration": 0.042209,
     "end_time": "2022-10-17T15:01:51.995676",
     "exception": false,
     "start_time": "2022-10-17T15:01:51.953467",
     "status": "completed"
    },
    "tags": []
   },
   "outputs": [
    {
     "name": "stdout",
     "output_type": "stream",
     "text": [
      "Лучшие параметры: \n"
     ]
    },
    {
     "data": {
      "text/plain": [
       "{'model__max_depth': 10,\n",
       " 'model__max_features': 10,\n",
       " 'model__min_samples_leaf': 18,\n",
       " 'model__n_estimators': 100}"
      ]
     },
     "execution_count": 51,
     "metadata": {},
     "output_type": "execute_result"
    }
   ],
   "source": [
    "print(\"Лучшие параметры: \")\n",
    "rf.best_params_"
   ]
  },
  {
   "cell_type": "code",
   "execution_count": 52,
   "id": "1c7aa234",
   "metadata": {
    "execution": {
     "iopub.execute_input": "2022-10-17T15:01:52.058330Z",
     "iopub.status.busy": "2022-10-17T15:01:52.057923Z",
     "iopub.status.idle": "2022-10-17T15:01:52.064895Z",
     "shell.execute_reply": "2022-10-17T15:01:52.064025Z"
    },
    "papermill": {
     "duration": 0.041214,
     "end_time": "2022-10-17T15:01:52.067453",
     "exception": false,
     "start_time": "2022-10-17T15:01:52.026239",
     "status": "completed"
    },
    "tags": []
   },
   "outputs": [
    {
     "name": "stdout",
     "output_type": "stream",
     "text": [
      "Его скор: \n"
     ]
    },
    {
     "data": {
      "text/plain": [
       "0.8451854765817359"
      ]
     },
     "execution_count": 52,
     "metadata": {},
     "output_type": "execute_result"
    }
   ],
   "source": [
    "print(\"Его скор: \")\n",
    "rf.best_score_"
   ]
  },
  {
   "cell_type": "markdown",
   "id": "4e5af037",
   "metadata": {
    "papermill": {
     "duration": 0.030166,
     "end_time": "2022-10-17T15:01:52.129055",
     "exception": false,
     "start_time": "2022-10-17T15:01:52.098889",
     "status": "completed"
    },
    "tags": []
   },
   "source": [
    "## Применение градиентного бустинга (2 балла)"
   ]
  },
  {
   "cell_type": "code",
   "execution_count": 53,
   "id": "18f3b2f5",
   "metadata": {
    "execution": {
     "iopub.execute_input": "2022-10-17T15:01:52.193008Z",
     "iopub.status.busy": "2022-10-17T15:01:52.192510Z",
     "iopub.status.idle": "2022-10-17T15:01:52.544990Z",
     "shell.execute_reply": "2022-10-17T15:01:52.544137Z"
    },
    "papermill": {
     "duration": 0.386824,
     "end_time": "2022-10-17T15:01:52.547619",
     "exception": false,
     "start_time": "2022-10-17T15:01:52.160795",
     "status": "completed"
    },
    "tags": []
   },
   "outputs": [],
   "source": [
    "from catboost import CatBoostClassifier, Pool"
   ]
  },
  {
   "cell_type": "markdown",
   "id": "6dd56f91",
   "metadata": {
    "papermill": {
     "duration": 0.030986,
     "end_time": "2022-10-17T15:01:52.608936",
     "exception": false,
     "start_time": "2022-10-17T15:01:52.577950",
     "status": "completed"
    },
    "tags": []
   },
   "source": [
    "P.S. Ни один котик не пострадал"
   ]
  },
  {
   "cell_type": "code",
   "execution_count": 54,
   "id": "92d53cc2",
   "metadata": {
    "execution": {
     "iopub.execute_input": "2022-10-17T15:01:52.674329Z",
     "iopub.status.busy": "2022-10-17T15:01:52.673139Z",
     "iopub.status.idle": "2022-10-17T15:01:52.678287Z",
     "shell.execute_reply": "2022-10-17T15:01:52.677491Z"
    },
    "papermill": {
     "duration": 0.040627,
     "end_time": "2022-10-17T15:01:52.680677",
     "exception": false,
     "start_time": "2022-10-17T15:01:52.640050",
     "status": "completed"
    },
    "tags": []
   },
   "outputs": [],
   "source": [
    "from sklearn.model_selection import train_test_split"
   ]
  },
  {
   "cell_type": "code",
   "execution_count": 55,
   "id": "8595b61b",
   "metadata": {
    "execution": {
     "iopub.execute_input": "2022-10-17T15:01:52.743479Z",
     "iopub.status.busy": "2022-10-17T15:01:52.743043Z",
     "iopub.status.idle": "2022-10-17T15:01:52.754346Z",
     "shell.execute_reply": "2022-10-17T15:01:52.753453Z"
    },
    "papermill": {
     "duration": 0.045572,
     "end_time": "2022-10-17T15:01:52.756774",
     "exception": false,
     "start_time": "2022-10-17T15:01:52.711202",
     "status": "completed"
    },
    "tags": []
   },
   "outputs": [],
   "source": [
    "X_train_cb, X_test_cb, y_train_cb, y_test_cb = train_test_split(X_train.values, y_train.values, train_size=0.8, random_state=42)"
   ]
  },
  {
   "cell_type": "code",
   "execution_count": 56,
   "id": "1b250e3c",
   "metadata": {
    "execution": {
     "iopub.execute_input": "2022-10-17T15:01:52.819510Z",
     "iopub.status.busy": "2022-10-17T15:01:52.818684Z",
     "iopub.status.idle": "2022-10-17T15:01:52.874161Z",
     "shell.execute_reply": "2022-10-17T15:01:52.872907Z"
    },
    "papermill": {
     "duration": 0.090246,
     "end_time": "2022-10-17T15:01:52.877135",
     "exception": false,
     "start_time": "2022-10-17T15:01:52.786889",
     "status": "completed"
    },
    "tags": []
   },
   "outputs": [],
   "source": [
    "catboost_train_dataset = Pool(data=X_train_cb,\n",
    "                  label=y_train_cb,\n",
    "                  cat_features=cat_cols,\n",
    "                  feature_names=feature_cols\n",
    "                  )"
   ]
  },
  {
   "cell_type": "code",
   "execution_count": 57,
   "id": "08cd91ec",
   "metadata": {
    "execution": {
     "iopub.execute_input": "2022-10-17T15:01:52.942205Z",
     "iopub.status.busy": "2022-10-17T15:01:52.941359Z",
     "iopub.status.idle": "2022-10-17T15:02:23.080977Z",
     "shell.execute_reply": "2022-10-17T15:02:23.079757Z"
    },
    "papermill": {
     "duration": 30.175984,
     "end_time": "2022-10-17T15:02:23.084083",
     "exception": false,
     "start_time": "2022-10-17T15:01:52.908099",
     "status": "completed"
    },
    "tags": []
   },
   "outputs": [
    {
     "name": "stdout",
     "output_type": "stream",
     "text": [
      "\n",
      "bestTest = 0.8384122671\n",
      "bestIteration = 75\n",
      "\n",
      "0:\tloss: 0.8384123\tbest: 0.8384123 (0)\ttotal: 841ms\tremaining: 5.89s\n",
      "\n",
      "bestTest = 0.839300092\n",
      "bestIteration = 86\n",
      "\n",
      "1:\tloss: 0.8393001\tbest: 0.8393001 (1)\ttotal: 1.45s\tremaining: 4.36s\n",
      "\n",
      "bestTest = 0.8394151139\n",
      "bestIteration = 192\n",
      "\n",
      "2:\tloss: 0.8394151\tbest: 0.8394151 (2)\ttotal: 2.92s\tremaining: 4.88s\n",
      "\n",
      "bestTest = 0.8403245054\n",
      "bestIteration = 199\n",
      "\n",
      "3:\tloss: 0.8403245\tbest: 0.8403245 (3)\ttotal: 4.21s\tremaining: 4.21s\n",
      "\n",
      "bestTest = 0.8398176904\n",
      "bestIteration = 299\n",
      "\n",
      "4:\tloss: 0.8398177\tbest: 0.8403245 (3)\ttotal: 6.15s\tremaining: 3.69s\n",
      "\n",
      "bestTest = 0.8405006326\n",
      "bestIteration = 286\n",
      "\n",
      "5:\tloss: 0.8405006\tbest: 0.8405006 (5)\ttotal: 8.04s\tremaining: 2.68s\n",
      "\n",
      "bestTest = 0.840694732\n",
      "bestIteration = 457\n",
      "\n",
      "6:\tloss: 0.8406947\tbest: 0.8406947 (6)\ttotal: 11.3s\tremaining: 1.62s\n",
      "\n",
      "bestTest = 0.8405006326\n",
      "bestIteration = 286\n",
      "\n",
      "7:\tloss: 0.8405006\tbest: 0.8406947 (6)\ttotal: 14.2s\tremaining: 0us\n",
      "Estimating final quality...\n",
      "Training on fold [0/5]\n",
      "\n",
      "bestTest = 0.8642043486\n",
      "bestIteration = 31\n",
      "\n",
      "Training on fold [1/5]\n",
      "\n",
      "bestTest = 0.8427021696\n",
      "bestIteration = 401\n",
      "\n",
      "Training on fold [2/5]\n",
      "\n",
      "bestTest = 0.8485250609\n",
      "bestIteration = 86\n",
      "\n",
      "Training on fold [3/5]\n",
      "\n",
      "bestTest = 0.8625783153\n",
      "bestIteration = 146\n",
      "\n",
      "Training on fold [4/5]\n",
      "\n",
      "bestTest = 0.8408590748\n",
      "bestIteration = 308\n",
      "\n"
     ]
    }
   ],
   "source": [
    "cv_classifer = CatBoostClassifier(loss_function = 'Logloss',\n",
    "                                    random_state = 42,\n",
    "                                    eval_metric = 'AUC:hints=skip_train~false', #метрика, используемая для обнаружения переобучения\n",
    "                                    bootstrap_type = 'Bayesian', # метод сэмплинга весов объектов\n",
    "                                    verbose = False,\n",
    "                                    early_stopping_rounds = 300,\n",
    "                                    )\n",
    "grid = {\"iterations\": [100, 200, 300, 500], #30, 50, 100, 200, 300, 500\n",
    "        \"learning_rate\":[0.03, 0.05], #0.03, 0.05, 0.1, 0.2, 0.3, 0.5\n",
    "        \"max_depth\": [4], #2,4,6,8\n",
    "        \"grow_policy\":['Lossguide'],#как будет применяться жадный алгоритм поиска\n",
    "        \"min_data_in_leaf\":[100], #30, 50, 100, 150, 200\n",
    "        \"score_function\": ['L2'],} #тип оценки, используемой для выбора следующего разбиения\n",
    "\n",
    "cb_grid_search = cv_classifer.grid_search(grid, X=catboost_train_dataset, cv=5, refit=True)"
   ]
  },
  {
   "cell_type": "code",
   "execution_count": 58,
   "id": "d4db4af9",
   "metadata": {
    "execution": {
     "iopub.execute_input": "2022-10-17T15:02:23.148618Z",
     "iopub.status.busy": "2022-10-17T15:02:23.147960Z",
     "iopub.status.idle": "2022-10-17T15:02:23.155554Z",
     "shell.execute_reply": "2022-10-17T15:02:23.154453Z"
    },
    "papermill": {
     "duration": 0.042353,
     "end_time": "2022-10-17T15:02:23.157938",
     "exception": false,
     "start_time": "2022-10-17T15:02:23.115585",
     "status": "completed"
    },
    "tags": []
   },
   "outputs": [
    {
     "data": {
      "text/plain": [
       "{'min_data_in_leaf': 100,\n",
       " 'depth': 4,\n",
       " 'iterations': 500,\n",
       " 'learning_rate': 0.03,\n",
       " 'grow_policy': 'Lossguide',\n",
       " 'score_function': 'L2'}"
      ]
     },
     "execution_count": 58,
     "metadata": {},
     "output_type": "execute_result"
    }
   ],
   "source": [
    "cb_grid_search['params']"
   ]
  },
  {
   "cell_type": "code",
   "execution_count": 59,
   "id": "50cba341",
   "metadata": {
    "execution": {
     "iopub.execute_input": "2022-10-17T15:02:23.222357Z",
     "iopub.status.busy": "2022-10-17T15:02:23.221943Z",
     "iopub.status.idle": "2022-10-17T15:02:23.275329Z",
     "shell.execute_reply": "2022-10-17T15:02:23.274113Z"
    },
    "papermill": {
     "duration": 0.088729,
     "end_time": "2022-10-17T15:02:23.277793",
     "exception": false,
     "start_time": "2022-10-17T15:02:23.189064",
     "status": "completed"
    },
    "tags": []
   },
   "outputs": [
    {
     "data": {
      "text/plain": [
       "0.874555593204756"
      ]
     },
     "execution_count": 59,
     "metadata": {},
     "output_type": "execute_result"
    }
   ],
   "source": [
    "y_train_predicted = cv_classifer.predict_proba(X_train)[:, 1]\n",
    "train_searching_auc = roc_auc_score(y_train, y_train_predicted)\n",
    "train_searching_auc"
   ]
  },
  {
   "cell_type": "markdown",
   "id": "a9beb867",
   "metadata": {
    "papermill": {
     "duration": 0.030692,
     "end_time": "2022-10-17T15:02:23.342666",
     "exception": false,
     "start_time": "2022-10-17T15:02:23.311974",
     "status": "completed"
    },
    "tags": []
   },
   "source": [
    "Функция потерь LogLoss:<br>\n",
    "Лучший скор: 0.874555593204756<br>\n",
    "Лучшие параметры: {'min_data_in_leaf': 100,<br>\n",
    " 'iterations': 100,<br>\n",
    " 'learning_rate': 0.3,<br>\n",
    " 'grow_policy': 'Depthwise'}<br>"
   ]
  },
  {
   "cell_type": "code",
   "execution_count": 60,
   "id": "b4c6e935",
   "metadata": {
    "execution": {
     "iopub.execute_input": "2022-10-17T15:02:23.406699Z",
     "iopub.status.busy": "2022-10-17T15:02:23.406275Z",
     "iopub.status.idle": "2022-10-17T15:02:23.497430Z",
     "shell.execute_reply": "2022-10-17T15:02:23.496134Z"
    },
    "papermill": {
     "duration": 0.126333,
     "end_time": "2022-10-17T15:02:23.499995",
     "exception": false,
     "start_time": "2022-10-17T15:02:23.373662",
     "status": "completed"
    },
    "tags": []
   },
   "outputs": [],
   "source": [
    "patterns = {\n",
    "    \"No\": 0,\n",
    "    \"No internet service\": 0,\n",
    "    \"No phone service\": 0,\n",
    "    \"Yes\": 1,\n",
    "    \"Male\": 0,\n",
    "    \"Female\": 1,\n",
    "    \"DSL\": 1,\n",
    "    \"Fiber optic\": 2,\n",
    "    \"Month-to-month\": 0,\n",
    "    \"One year\": 1,\n",
    "    \"Two year\": 2,\n",
    "    \"Credit card (automatic)\": 0,\n",
    "    \"Bank transfer (automatic)\": 1,\n",
    "    \"Mailed check\": 2,\n",
    "    \"Electronic check\": 3,\n",
    "}\n",
    "X_train = train.replace(patterns).drop(target_col, axis=1)\n",
    "y_train = train[target_col]\n",
    "X_test = test[feature_cols].replace(patterns)"
   ]
  },
  {
   "cell_type": "code",
   "execution_count": 61,
   "id": "7ad643a1",
   "metadata": {
    "execution": {
     "iopub.execute_input": "2022-10-17T15:02:23.564529Z",
     "iopub.status.busy": "2022-10-17T15:02:23.564073Z",
     "iopub.status.idle": "2022-10-17T15:03:41.485447Z",
     "shell.execute_reply": "2022-10-17T15:03:41.484522Z"
    },
    "papermill": {
     "duration": 77.987523,
     "end_time": "2022-10-17T15:03:41.519041",
     "exception": false,
     "start_time": "2022-10-17T15:02:23.531518",
     "status": "completed"
    },
    "tags": []
   },
   "outputs": [
    {
     "name": "stdout",
     "output_type": "stream",
     "text": [
      "[CV] END ..................linear__C=120, linear__penalty=l1; total time=   1.2s\n",
      "[CV] END ..................linear__C=120, linear__penalty=l2; total time=   0.1s\n",
      "[CV] END ..................linear__C=100, linear__penalty=l1; total time=   1.0s\n",
      "[CV] END ..................linear__C=100, linear__penalty=l1; total time=   1.2s\n",
      "[CV] END ...................linear__C=10, linear__penalty=l1; total time=   1.0s\n",
      "[CV] END ....................linear__C=1, linear__penalty=l1; total time=   0.3s\n",
      "[CV] END ....................linear__C=1, linear__penalty=l1; total time=   0.2s\n",
      "[CV] END ....................linear__C=1, linear__penalty=l2; total time=   0.1s\n",
      "[CV] END ....................linear__C=1, linear__penalty=l2; total time=   0.1s\n",
      "[CV] END ..................linear__C=0.1, linear__penalty=l1; total time=   0.2s\n",
      "[CV] END ..................linear__C=0.1, linear__penalty=l2; total time=   0.1s\n",
      "[CV] END ..................linear__C=0.1, linear__penalty=l2; total time=   0.1s\n",
      "[CV] END .................linear__C=0.01, linear__penalty=l1; total time=   0.1s\n",
      "[CV] END .................linear__C=0.01, linear__penalty=l2; total time=   0.1s\n",
      "[CV] END ................linear__C=0.001, linear__penalty=l1; total time=   0.1s\n",
      "[CV] END ................linear__C=0.001, linear__penalty=l2; total time=   0.1s\n",
      "[CV] END ................linear__C=0.001, linear__penalty=l2; total time=   0.1s\n",
      "Fitting 5 folds for each of 14 candidates, totalling 70 fits\n",
      "Fitting 5 folds for each of 14 candidates, totalling 70 fits\n",
      "Fitting 5 folds for each of 14 candidates, totalling 70 fits\n",
      "Fitting 5 folds for each of 14 candidates, totalling 70 fits\n",
      "[CV] END ..................linear__C=120, linear__penalty=l1; total time=   3.2s\n",
      "[CV] END ..................linear__C=120, linear__penalty=l1; total time=   4.0s\n",
      "[CV] END ..................linear__C=120, linear__penalty=l1; total time=   4.1s\n",
      "[CV] END ..................linear__C=120, linear__penalty=l1; total time=   4.3s\n",
      "[CV] END ..................linear__C=120, linear__penalty=l1; total time=   2.7s\n",
      "[CV] END ..................linear__C=120, linear__penalty=l1; total time=   4.5s\n",
      "[CV] END ..................linear__C=120, linear__penalty=l1; total time=   5.4s\n",
      "[CV] END ..................linear__C=120, linear__penalty=l1; total time=   6.6s\n",
      "[CV] END ..................linear__C=120, linear__penalty=l1; total time=   5.1s\n",
      "[CV] END ..................linear__C=120, linear__penalty=l1; total time=   5.2s\n",
      "[CV] END ..................linear__C=120, linear__penalty=l1; total time=   5.1s\n",
      "[CV] END ..................linear__C=120, linear__penalty=l1; total time=   5.3s\n",
      "[CV] END ..................linear__C=120, linear__penalty=l1; total time=   4.5s\n",
      "[CV] END ..................linear__C=120, linear__penalty=l1; total time=   3.1s\n",
      "[CV] END ..................linear__C=120, linear__penalty=l1; total time=   3.6s\n",
      "[CV] END ..................linear__C=120, linear__penalty=l1; total time=   3.0s\n",
      "[CV] END ..................linear__C=120, linear__penalty=l1; total time=   2.7s\n",
      "[CV] END ..................linear__C=120, linear__penalty=l2; total time=   0.2s\n",
      "[CV] END ..................linear__C=120, linear__penalty=l1; total time=   2.9s\n",
      "[CV] END ..................linear__C=120, linear__penalty=l2; total time=   0.2s\n",
      "[CV] END ..................linear__C=120, linear__penalty=l2; total time=   0.3s\n",
      "[CV] END ..................linear__C=120, linear__penalty=l2; total time=   0.3s\n",
      "[CV] END ..................linear__C=120, linear__penalty=l2; total time=   0.3s\n",
      "[CV] END ..................linear__C=120, linear__penalty=l2; total time=   0.4s\n",
      "[CV] END ..................linear__C=120, linear__penalty=l2; total time=   0.4s\n",
      "[CV] END ..................linear__C=120, linear__penalty=l2; total time=   0.3s\n",
      "[CV] END ..................linear__C=120, linear__penalty=l1; total time=   3.5s\n",
      "[CV] END ..................linear__C=120, linear__penalty=l2; total time=   0.2s\n",
      "[CV] END ..................linear__C=120, linear__penalty=l2; total time=   0.2s\n",
      "[CV] END ..................linear__C=120, linear__penalty=l2; total time=   0.2s\n",
      "[CV] END ..................linear__C=120, linear__penalty=l2; total time=   0.2s\n",
      "[CV] END ..................linear__C=120, linear__penalty=l2; total time=   0.1s\n",
      "[CV] END ..................linear__C=120, linear__penalty=l2; total time=   0.1s\n",
      "[CV] END ..................linear__C=120, linear__penalty=l2; total time=   0.2s\n",
      "[CV] END ..................linear__C=120, linear__penalty=l1; total time=   2.8s\n",
      "[CV] END ..................linear__C=120, linear__penalty=l2; total time=   0.2s\n",
      "[CV] END ..................linear__C=120, linear__penalty=l2; total time=   0.2s\n",
      "[CV] END ..................linear__C=120, linear__penalty=l2; total time=   0.2s\n",
      "[CV] END ..................linear__C=120, linear__penalty=l2; total time=   0.1s\n",
      "[CV] END ..................linear__C=120, linear__penalty=l2; total time=   0.1s\n",
      "[CV] END ..................linear__C=100, linear__penalty=l1; total time=   1.6s\n",
      "[CV] END ..................linear__C=100, linear__penalty=l1; total time=   2.1s\n",
      "[CV] END ..................linear__C=100, linear__penalty=l1; total time=   1.5s\n",
      "[CV] END ..................linear__C=100, linear__penalty=l1; total time=   0.6s\n",
      "[CV] END ..................linear__C=100, linear__penalty=l1; total time=   1.1s\n",
      "[CV] END ..................linear__C=100, linear__penalty=l1; total time=   1.0s\n",
      "[CV] END ..................linear__C=100, linear__penalty=l1; total time=   1.6s\n",
      "[CV] END ..................linear__C=100, linear__penalty=l1; total time=   1.4s\n",
      "[CV] END ..................linear__C=100, linear__penalty=l1; total time=   1.3s\n",
      "[CV] END ..................linear__C=100, linear__penalty=l1; total time=   1.2s\n",
      "[CV] END ..................linear__C=100, linear__penalty=l1; total time=   1.8s\n",
      "[CV] END ..................linear__C=100, linear__penalty=l1; total time=   1.6s\n",
      "[CV] END ..................linear__C=100, linear__penalty=l1; total time=   1.3s\n",
      "[CV] END ..................linear__C=100, linear__penalty=l1; total time=   2.0s\n",
      "[CV] END ..................linear__C=100, linear__penalty=l1; total time=   1.6s\n",
      "[CV] END ..................linear__C=100, linear__penalty=l1; total time=   1.8s\n",
      "[CV] END ..................linear__C=100, linear__penalty=l1; total time=   1.4s\n",
      "[CV] END ..................linear__C=100, linear__penalty=l2; total time=   0.2s\n",
      "[CV] END ..................linear__C=100, linear__penalty=l1; total time=   0.9s\n",
      "[CV] END ..................linear__C=100, linear__penalty=l2; total time=   0.1s\n",
      "[CV] END ..................linear__C=100, linear__penalty=l1; total time=   2.0s\n",
      "[CV] END ..................linear__C=100, linear__penalty=l2; total time=   0.2s\n",
      "[CV] END ..................linear__C=100, linear__penalty=l2; total time=   0.2s\n",
      "[CV] END ..................linear__C=100, linear__penalty=l2; total time=   0.1s\n",
      "[CV] END ..................linear__C=100, linear__penalty=l2; total time=   0.2s\n",
      "[CV] END ..................linear__C=100, linear__penalty=l2; total time=   0.2s\n",
      "[CV] END ..................linear__C=100, linear__penalty=l2; total time=   0.1s\n",
      "[CV] END ..................linear__C=100, linear__penalty=l2; total time=   0.1s\n",
      "[CV] END ..................linear__C=100, linear__penalty=l2; total time=   0.1s\n",
      "[CV] END ..................linear__C=100, linear__penalty=l2; total time=   0.1s\n",
      "[CV] END ..................linear__C=100, linear__penalty=l2; total time=   0.1s\n",
      "[CV] END ..................linear__C=100, linear__penalty=l2; total time=   0.2s\n",
      "[CV] END ..................linear__C=100, linear__penalty=l2; total time=   0.1s\n",
      "[CV] END ..................linear__C=100, linear__penalty=l2; total time=   0.1s\n",
      "[CV] END ..................linear__C=100, linear__penalty=l1; total time=   1.1s\n",
      "[CV] END ..................linear__C=100, linear__penalty=l2; total time=   0.1s\n",
      "[CV] END ..................linear__C=100, linear__penalty=l2; total time=   0.1s\n",
      "[CV] END ..................linear__C=100, linear__penalty=l2; total time=   0.1s\n",
      "[CV] END ...................linear__C=10, linear__penalty=l1; total time=   1.0s\n",
      "[CV] END ...................linear__C=10, linear__penalty=l1; total time=   0.9s\n",
      "[CV] END ...................linear__C=10, linear__penalty=l1; total time=   0.9s\n",
      "[CV] END ..................linear__C=100, linear__penalty=l2; total time=   0.2s\n",
      "[CV] END ..................linear__C=100, linear__penalty=l2; total time=   0.1s\n",
      "[CV] END ...................linear__C=10, linear__penalty=l1; total time=   0.8s\n",
      "[CV] END ...................linear__C=10, linear__penalty=l1; total time=   0.9s\n",
      "[CV] END ...................linear__C=10, linear__penalty=l1; total time=   0.7s\n",
      "[CV] END ...................linear__C=10, linear__penalty=l1; total time=   0.9s\n",
      "[CV] END ...................linear__C=10, linear__penalty=l1; total time=   0.8s\n",
      "[CV] END ...................linear__C=10, linear__penalty=l1; total time=   0.8s\n",
      "[CV] END ...................linear__C=10, linear__penalty=l1; total time=   1.0s\n",
      "[CV] END ...................linear__C=10, linear__penalty=l1; total time=   1.0s\n",
      "[CV] END ...................linear__C=10, linear__penalty=l1; total time=   0.8s\n",
      "[CV] END ...................linear__C=10, linear__penalty=l1; total time=   0.9s\n",
      "[CV] END ...................linear__C=10, linear__penalty=l1; total time=   0.8s\n",
      "[CV] END ...................linear__C=10, linear__penalty=l1; total time=   1.2s\n",
      "[CV] END ...................linear__C=10, linear__penalty=l1; total time=   0.7s\n",
      "[CV] END ...................linear__C=10, linear__penalty=l2; total time=   0.1s\n",
      "[CV] END ...................linear__C=10, linear__penalty=l2; total time=   0.1s\n",
      "[CV] END ...................linear__C=10, linear__penalty=l1; total time=   0.7s\n",
      "[CV] END ...................linear__C=10, linear__penalty=l2; total time=   0.1s\n",
      "[CV] END ...................linear__C=10, linear__penalty=l2; total time=   0.1s\n",
      "[CV] END ...................linear__C=10, linear__penalty=l2; total time=   0.1s\n",
      "[CV] END ...................linear__C=10, linear__penalty=l2; total time=   0.1s\n",
      "[CV] END ...................linear__C=10, linear__penalty=l2; total time=   0.1s\n",
      "[CV] END ...................linear__C=10, linear__penalty=l2; total time=   0.1s\n",
      "[CV] END ....................linear__C=1, linear__penalty=l1; total time=   0.2s\n",
      "[CV] END ...................linear__C=10, linear__penalty=l2; total time=   0.1s\n",
      "[CV] END ...................linear__C=10, linear__penalty=l2; total time=   0.1s\n",
      "[CV] END ...................linear__C=10, linear__penalty=l1; total time=   1.2s\n",
      "[CV] END ....................linear__C=1, linear__penalty=l1; total time=   0.2s\n",
      "[CV] END ...................linear__C=10, linear__penalty=l2; total time=   0.1s\n",
      "[CV] END ....................linear__C=1, linear__penalty=l1; total time=   0.2s\n",
      "[CV] END ...................linear__C=10, linear__penalty=l2; total time=   0.1s\n",
      "[CV] END ....................linear__C=1, linear__penalty=l1; total time=   0.2s\n",
      "[CV] END ...................linear__C=10, linear__penalty=l1; total time=   1.3s\n",
      "[CV] END ...................linear__C=10, linear__penalty=l2; total time=   0.1s\n",
      "[CV] END ....................linear__C=1, linear__penalty=l1; total time=   0.2s\n",
      "[CV] END ...................linear__C=10, linear__penalty=l2; total time=   0.1s\n",
      "[CV] END ...................linear__C=10, linear__penalty=l2; total time=   0.1s\n",
      "[CV] END ....................linear__C=1, linear__penalty=l1; total time=   0.2s\n",
      "[CV] END ....................linear__C=1, linear__penalty=l1; total time=   0.4s\n",
      "[CV] END ....................linear__C=1, linear__penalty=l2; total time=   0.1s\n",
      "[CV] END ....................linear__C=1, linear__penalty=l2; total time=   0.1s\n",
      "[CV] END ....................linear__C=1, linear__penalty=l1; total time=   0.2s\n",
      "[CV] END ....................linear__C=1, linear__penalty=l1; total time=   0.3s\n",
      "[CV] END ....................linear__C=1, linear__penalty=l2; total time=   0.1s\n",
      "[CV] END ....................linear__C=1, linear__penalty=l1; total time=   0.2s\n",
      "[CV] END ....................linear__C=1, linear__penalty=l2; total time=   0.1s\n",
      "[CV] END ....................linear__C=1, linear__penalty=l1; total time=   0.2s\n",
      "[CV] END ....................linear__C=1, linear__penalty=l2; total time=   0.1s\n",
      "[CV] END ..................linear__C=0.1, linear__penalty=l1; total time=   0.1s\n",
      "[CV] END ....................linear__C=1, linear__penalty=l1; total time=   0.2s\n",
      "[CV] END ....................linear__C=1, linear__penalty=l1; total time=   0.3s\n",
      "[CV] END ..................linear__C=0.1, linear__penalty=l1; total time=   0.1s\n",
      "[CV] END ...................linear__C=10, linear__penalty=l1; total time=   1.1s\n",
      "[CV] END ....................linear__C=1, linear__penalty=l1; total time=   0.2s\n",
      "[CV] END ....................linear__C=1, linear__penalty=l2; total time=   0.1s\n",
      "[CV] END ...................linear__C=10, linear__penalty=l2; total time=   0.1s\n",
      "[CV] END ....................linear__C=1, linear__penalty=l2; total time=   0.1s\n",
      "[CV] END ..................linear__C=0.1, linear__penalty=l1; total time=   0.2s\n",
      "[CV] END ....................linear__C=1, linear__penalty=l1; total time=   0.2s\n",
      "[CV] END ....................linear__C=1, linear__penalty=l2; total time=   0.1s\n",
      "[CV] END ..................linear__C=0.1, linear__penalty=l1; total time=   0.2s\n",
      "[CV] END ...................linear__C=10, linear__penalty=l2; total time=   0.2s\n",
      "[CV] END ....................linear__C=1, linear__penalty=l2; total time=   0.2s\n",
      "[CV] END ....................linear__C=1, linear__penalty=l2; total time=   0.2s\n",
      "[CV] END ..................linear__C=0.1, linear__penalty=l1; total time=   0.2s\n",
      "[CV] END ...................linear__C=10, linear__penalty=l2; total time=   0.2s\n",
      "[CV] END ....................linear__C=1, linear__penalty=l2; total time=   0.2s\n",
      "[CV] END ....................linear__C=1, linear__penalty=l2; total time=   0.2s\n",
      "[CV] END ..................linear__C=0.1, linear__penalty=l2; total time=   0.2s\n",
      "[CV] END ..................linear__C=0.1, linear__penalty=l1; total time=   0.1s\n",
      "[CV] END ....................linear__C=1, linear__penalty=l2; total time=   0.2s\n",
      "[CV] END ...................linear__C=10, linear__penalty=l2; total time=   0.2s\n",
      "[CV] END ..................linear__C=0.1, linear__penalty=l2; total time=   0.2s\n",
      "[CV] END ..................linear__C=0.1, linear__penalty=l1; total time=   0.2s\n",
      "[CV] END ...................linear__C=10, linear__penalty=l2; total time=   0.1s\n",
      "[CV] END ....................linear__C=1, linear__penalty=l2; total time=   0.2s\n",
      "[CV] END ..................linear__C=0.1, linear__penalty=l2; total time=   0.1s\n",
      "[CV] END ..................linear__C=0.1, linear__penalty=l1; total time=   0.2s\n",
      "[CV] END ..................linear__C=0.1, linear__penalty=l2; total time=   0.1s\n",
      "[CV] END ....................linear__C=1, linear__penalty=l2; total time=   0.2s\n",
      "[CV] END ....................linear__C=1, linear__penalty=l1; total time=   0.2s\n",
      "[CV] END ..................linear__C=0.1, linear__penalty=l1; total time=   0.1s\n",
      "[CV] END ..................linear__C=0.1, linear__penalty=l2; total time=   0.2s\n",
      "[CV] END ..................linear__C=0.1, linear__penalty=l1; total time=   0.1s\n",
      "[CV] END .................linear__C=0.01, linear__penalty=l1; total time=   0.1s\n",
      "[CV] END ....................linear__C=1, linear__penalty=l1; total time=   0.2s\n",
      "[CV] END ..................linear__C=0.1, linear__penalty=l1; total time=   0.2s\n",
      "[CV] END ..................linear__C=0.1, linear__penalty=l1; total time=   0.2s\n",
      "[CV] END ..................linear__C=0.1, linear__penalty=l2; total time=   0.1s\n",
      "[CV] END .................linear__C=0.01, linear__penalty=l1; total time=   0.2s\n",
      "[CV] END ..................linear__C=0.1, linear__penalty=l1; total time=   0.2s\n",
      "[CV] END ....................linear__C=1, linear__penalty=l1; total time=   0.2s\n",
      "[CV] END ..................linear__C=0.1, linear__penalty=l2; total time=   0.1s\n",
      "[CV] END .................linear__C=0.01, linear__penalty=l1; total time=   0.2s\n",
      "[CV] END ..................linear__C=0.1, linear__penalty=l1; total time=   0.2s\n",
      "[CV] END ....................linear__C=1, linear__penalty=l1; total time=   0.2s\n",
      "[CV] END .................linear__C=0.01, linear__penalty=l1; total time=   0.1s\n",
      "[CV] END ..................linear__C=0.1, linear__penalty=l2; total time=   0.2s\n",
      "[CV] END ..................linear__C=0.1, linear__penalty=l1; total time=   0.2s\n",
      "[CV] END ..................linear__C=0.1, linear__penalty=l2; total time=   0.1s\n",
      "[CV] END .................linear__C=0.01, linear__penalty=l1; total time=   0.2s\n",
      "[CV] END ..................linear__C=0.1, linear__penalty=l2; total time=   0.1s\n",
      "[CV] END ....................linear__C=1, linear__penalty=l1; total time=   0.3s\n",
      "[CV] END ..................linear__C=0.1, linear__penalty=l2; total time=   0.2s\n",
      "[CV] END .................linear__C=0.01, linear__penalty=l2; total time=   0.2s\n",
      "[CV] END ..................linear__C=0.1, linear__penalty=l2; total time=   0.2s\n",
      "[CV] END .................linear__C=0.01, linear__penalty=l2; total time=   0.1s\n",
      "[CV] END ....................linear__C=1, linear__penalty=l2; total time=   0.2s\n",
      "[CV] END .................linear__C=0.01, linear__penalty=l1; total time=   0.2s\n",
      "[CV] END ..................linear__C=0.1, linear__penalty=l2; total time=   0.2s\n",
      "[CV] END .................linear__C=0.01, linear__penalty=l2; total time=   0.2s\n",
      "[CV] END .................linear__C=0.01, linear__penalty=l1; total time=   0.1s\n",
      "[CV] END ....................linear__C=1, linear__penalty=l2; total time=   0.1s\n",
      "[CV] END .................linear__C=0.01, linear__penalty=l2; total time=   0.1s\n",
      "[CV] END .................linear__C=0.01, linear__penalty=l1; total time=   0.1s\n",
      "[CV] END ..................linear__C=0.1, linear__penalty=l2; total time=   0.2s\n",
      "[CV] END ....................linear__C=1, linear__penalty=l2; total time=   0.2s\n",
      "[CV] END .................linear__C=0.01, linear__penalty=l1; total time=   0.1s\n",
      "[CV] END ....................linear__C=1, linear__penalty=l2; total time=   0.1s\n",
      "[CV] END .................linear__C=0.01, linear__penalty=l2; total time=   0.2s\n",
      "[CV] END ..................linear__C=0.1, linear__penalty=l2; total time=   0.2s\n",
      "[CV] END ................linear__C=0.001, linear__penalty=l1; total time=   0.1s\n",
      "[CV] END .................linear__C=0.01, linear__penalty=l1; total time=   0.1s\n",
      "[CV] END .................linear__C=0.01, linear__penalty=l1; total time=   0.2s\n",
      "[CV] END ....................linear__C=1, linear__penalty=l2; total time=   0.2s\n",
      "[CV] END ................linear__C=0.001, linear__penalty=l1; total time=   0.1s\n",
      "[CV] END .................linear__C=0.01, linear__penalty=l2; total time=   0.1s\n",
      "[CV] END .................linear__C=0.01, linear__penalty=l1; total time=   0.2s\n",
      "[CV] END ..................linear__C=0.1, linear__penalty=l1; total time=   0.2s\n",
      "[CV] END ................linear__C=0.001, linear__penalty=l1; total time=   0.1s\n",
      "[CV] END .................linear__C=0.01, linear__penalty=l2; total time=   0.1s\n",
      "[CV] END .................linear__C=0.01, linear__penalty=l1; total time=   0.2s\n",
      "[CV] END ................linear__C=0.001, linear__penalty=l1; total time=   0.1s\n",
      "[CV] END ..................linear__C=0.1, linear__penalty=l1; total time=   0.2s\n",
      "[CV] END .................linear__C=0.01, linear__penalty=l2; total time=   0.2s\n",
      "[CV] END ................linear__C=0.001, linear__penalty=l1; total time=   0.1s\n",
      "[CV] END .................linear__C=0.01, linear__penalty=l1; total time=   0.2s\n",
      "[CV] END ..................linear__C=0.1, linear__penalty=l1; total time=   0.2s\n",
      "[CV] END .................linear__C=0.01, linear__penalty=l2; total time=   0.2s\n",
      "[CV] END .................linear__C=0.01, linear__penalty=l1; total time=   0.1s\n",
      "[CV] END ................linear__C=0.001, linear__penalty=l2; total time=   0.1s\n",
      "[CV] END ..................linear__C=0.1, linear__penalty=l1; total time=   0.2s\n",
      "[CV] END .................linear__C=0.01, linear__penalty=l2; total time=   0.1s\n",
      "[CV] END ................linear__C=0.001, linear__penalty=l2; total time=   0.2s\n",
      "[CV] END .................linear__C=0.01, linear__penalty=l2; total time=   0.2s\n",
      "[CV] END ................linear__C=0.001, linear__penalty=l1; total time=   0.1s\n",
      "[CV] END ..................linear__C=0.1, linear__penalty=l1; total time=   0.2s\n",
      "[CV] END .................linear__C=0.01, linear__penalty=l2; total time=   0.1s\n",
      "[CV] END ................linear__C=0.001, linear__penalty=l1; total time=   0.1s\n",
      "[CV] END ................linear__C=0.001, linear__penalty=l2; total time=   0.2s\n",
      "[CV] END ..................linear__C=0.1, linear__penalty=l2; total time=   0.1s\n",
      "[CV] END ................linear__C=0.001, linear__penalty=l1; total time=   0.1s\n",
      "[CV] END ................linear__C=0.001, linear__penalty=l2; total time=   0.1s\n",
      "[CV] END ..................linear__C=0.1, linear__penalty=l2; total time=   0.1s\n",
      "[CV] END .................linear__C=0.01, linear__penalty=l2; total time=   0.2s\n",
      "[CV] END ................linear__C=0.001, linear__penalty=l2; total time=   0.1s\n",
      "[CV] END ................linear__C=0.001, linear__penalty=l1; total time=   0.2s\n",
      "[CV] END .................linear__C=0.01, linear__penalty=l2; total time=   0.1s\n",
      "[CV] END ..................linear__C=0.1, linear__penalty=l2; total time=   0.2s\n",
      "[CV] END ................linear__C=0.001, linear__penalty=l1; total time=   0.1s\n",
      "[CV] END ..................linear__C=0.1, linear__penalty=l2; total time=   0.1s\n",
      "[CV] END .................linear__C=0.01, linear__penalty=l2; total time=   0.1s\n",
      "[CV] END ................linear__C=0.001, linear__penalty=l2; total time=   0.1s\n",
      "[CV] END ................linear__C=0.001, linear__penalty=l1; total time=   0.1s\n",
      "[CV] END ..................linear__C=0.1, linear__penalty=l2; total time=   0.1s\n",
      "[CV] END ................linear__C=0.001, linear__penalty=l2; total time=   0.1s\n",
      "[CV] END .................linear__C=0.01, linear__penalty=l1; total time=   0.1s\n",
      "[CV] END ................linear__C=0.001, linear__penalty=l1; total time=   0.1s\n",
      "[CV] END ................linear__C=0.001, linear__penalty=l2; total time=   0.1s\n",
      "[CV] END .................linear__C=0.01, linear__penalty=l1; total time=   0.1s\n",
      "[CV] END ................linear__C=0.001, linear__penalty=l1; total time=   0.1s\n",
      "[CV] END ................linear__C=0.001, linear__penalty=l1; total time=   0.1s\n",
      "[CV] END .................linear__C=0.01, linear__penalty=l1; total time=   0.1s\n",
      "[CV] END ................linear__C=0.001, linear__penalty=l2; total time=   0.1s\n",
      "[CV] END ................linear__C=0.001, linear__penalty=l2; total time=   0.1s\n",
      "[CV] END ................linear__C=0.001, linear__penalty=l1; total time=   0.1s\n",
      "[CV] END .................linear__C=0.01, linear__penalty=l1; total time=   0.1s\n",
      "[CV] END .................linear__C=0.01, linear__penalty=l1; total time=   0.1s\n",
      "[CV] END ................linear__C=0.001, linear__penalty=l2; total time=   0.1s\n",
      "Fitting 5 folds for each of 14 candidates, totalling 70 fits\n",
      "[CV] END ................linear__C=0.001, linear__penalty=l2; total time=   0.1s\n",
      "[CV] END .................linear__C=0.01, linear__penalty=l2; total time=   0.1s\n",
      "[CV] END ................linear__C=0.001, linear__penalty=l2; total time=   0.1s\n",
      "[CV] END .................linear__C=0.01, linear__penalty=l2; total time=   0.1s\n",
      "[CV] END .................linear__C=0.01, linear__penalty=l2; total time=   0.1s\n",
      "[CV] END ................linear__C=0.001, linear__penalty=l2; total time=   0.1s\n",
      "[CV] END ................linear__C=0.001, linear__penalty=l2; total time=   0.1s\n",
      "[CV] END .................linear__C=0.01, linear__penalty=l2; total time=   0.1s\n",
      "[CV] END .................linear__C=0.01, linear__penalty=l2; total time=   0.1s\n",
      "[CV] END ................linear__C=0.001, linear__penalty=l1; total time=   0.0s\n",
      "[CV] END ................linear__C=0.001, linear__penalty=l1; total time=   0.0s\n",
      "[CV] END ................linear__C=0.001, linear__penalty=l1; total time=   0.0s\n",
      "[CV] END ................linear__C=0.001, linear__penalty=l1; total time=   0.0s\n",
      "[CV] END ................linear__C=0.001, linear__penalty=l1; total time=   0.0s\n",
      "[CV] END ................linear__C=0.001, linear__penalty=l2; total time=   0.0s\n",
      "[CV] END ................linear__C=0.001, linear__penalty=l2; total time=   0.0s\n",
      "[CV] END ................linear__C=0.001, linear__penalty=l2; total time=   0.0s\n",
      "[CV] END ................linear__C=0.001, linear__penalty=l2; total time=   0.0s\n",
      "[CV] END ................linear__C=0.001, linear__penalty=l2; total time=   0.0s\n",
      "[CV] END ..................linear__C=120, linear__penalty=l1; total time=   0.9s\n",
      "[CV] END ..................linear__C=120, linear__penalty=l1; total time=   1.1s\n",
      "[CV] END ..................linear__C=120, linear__penalty=l1; total time=   0.9s\n",
      "[CV] END ..................linear__C=120, linear__penalty=l1; total time=   0.8s\n",
      "[CV] END ..................linear__C=120, linear__penalty=l1; total time=   1.1s"
     ]
    },
    {
     "data": {
      "text/plain": [
       "StackingClassifier(estimators=[('logreg',\n",
       "                                GridSearchCV(estimator=Pipeline(steps=[('preparation',\n",
       "                                                                        ColumnTransformer(transformers=[('num',\n",
       "                                                                                                         StandardScaler(),\n",
       "                                                                                                         ['ClientPeriod',\n",
       "                                                                                                          'MonthlySpending',\n",
       "                                                                                                          'TotalSpent']),\n",
       "                                                                                                        ('cat',\n",
       "                                                                                                         OneHotEncoder(),\n",
       "                                                                                                         ['Sex',\n",
       "                                                                                                          'IsSeniorCitizen',\n",
       "                                                                                                          'HasPartner',\n",
       "                                                                                                          'HasChild',\n",
       "                                                                                                          'HasPhoneService',\n",
       "                                                                                                          'HasMultiplePhoneNumbers',\n",
       "                                                                                                          'HasInternetService',\n",
       "                                                                                                          'HasOnlineSec...\n",
       "                                                                        RandomForestClassifier(random_state=42))]),\n",
       "                                             n_jobs=-1,\n",
       "                                             param_grid=[{'model__max_depth': [10],\n",
       "                                                          'model__max_features': [10],\n",
       "                                                          'model__min_samples_leaf': [18],\n",
       "                                                          'model__n_estimators': [100]}],\n",
       "                                             scoring='roc_auc')),\n",
       "                               ('catboost',\n",
       "                                <catboost.core.CatBoostClassifier object at 0x7fcaadadc850>)],\n",
       "                   final_estimator=<catboost.core.CatBoostClassifier object at 0x7fcaaf619a10>,\n",
       "                   n_jobs=-1)"
      ]
     },
     "execution_count": 61,
     "metadata": {},
     "output_type": "execute_result"
    }
   ],
   "source": [
    "from sklearn.ensemble import StackingClassifier\n",
    "\n",
    "meta = CatBoostClassifier(\n",
    "    verbose = False,\n",
    "    eval_metric=\"AUC:hints=skip_train~false\",\n",
    "    random_seed=42,\n",
    "    grow_policy=\"Lossguide\",\n",
    "    bootstrap_type = 'Bayesian',\n",
    "    learning_rate=0.05,\n",
    "    max_depth=8,\n",
    "    min_data_in_leaf=80,\n",
    ")\n",
    "stacking = StackingClassifier(\n",
    "    estimators=[\n",
    "        (\"logreg\", logreg),\n",
    "        (\"knn\", knn),\n",
    "        (\"nb\", nb),\n",
    "        (\"rf\", rf),\n",
    "        (\"catboost\", cv_classifer),\n",
    "    ],\n",
    "    final_estimator=meta,\n",
    "    n_jobs=-1,\n",
    ")\n",
    "\n",
    "stacking.fit(X_train, y_train)"
   ]
  },
  {
   "cell_type": "code",
   "execution_count": 62,
   "id": "8e397f35",
   "metadata": {
    "execution": {
     "iopub.execute_input": "2022-10-17T15:03:41.585663Z",
     "iopub.status.busy": "2022-10-17T15:03:41.584520Z",
     "iopub.status.idle": "2022-10-17T15:03:41.589011Z",
     "shell.execute_reply": "2022-10-17T15:03:41.588164Z"
    },
    "papermill": {
     "duration": 0.040373,
     "end_time": "2022-10-17T15:03:41.591222",
     "exception": false,
     "start_time": "2022-10-17T15:03:41.550849",
     "status": "completed"
    },
    "tags": []
   },
   "outputs": [],
   "source": [
    "#y_test_predicted = stacking.predict_proba(X_test)[:, 1]"
   ]
  },
  {
   "cell_type": "markdown",
   "id": "9cbe16ad",
   "metadata": {
    "papermill": {
     "duration": 0.03191,
     "end_time": "2022-10-17T15:03:41.655159",
     "exception": false,
     "start_time": "2022-10-17T15:03:41.623249",
     "status": "completed"
    },
    "tags": []
   },
   "source": [
    "### **Скор стекинга:**"
   ]
  },
  {
   "attachments": {
    "9f0f2c2a-5cf6-4a84-aa65-9214e032de54.png": {
     "image/png": "[encoded data removed]"
    }
   },
   "cell_type": "markdown",
   "id": "414326c7",
   "metadata": {
    "papermill": {
     "duration": 0.031785,
     "end_time": "2022-10-17T15:03:41.718862",
     "exception": false,
     "start_time": "2022-10-17T15:03:41.687077",
     "status": "completed"
    },
    "tags": []
   },
   "source": [
    "![image.png](attachment:9f0f2c2a-5cf6-4a84-aa65-9214e032de54.png)"
   ]
  },
  {
   "cell_type": "code",
   "execution_count": 63,
   "id": "bf0c7abe",
   "metadata": {
    "execution": {
     "iopub.execute_input": "2022-10-17T15:03:41.785007Z",
     "iopub.status.busy": "2022-10-17T15:03:41.783960Z",
     "iopub.status.idle": "2022-10-17T15:03:41.806580Z",
     "shell.execute_reply": "2022-10-17T15:03:41.805403Z"
    },
    "papermill": {
     "duration": 0.058758,
     "end_time": "2022-10-17T15:03:41.809452",
     "exception": false,
     "start_time": "2022-10-17T15:03:41.750694",
     "status": "completed"
    },
    "tags": []
   },
   "outputs": [],
   "source": [
    "y_test_predicted = cv_classifer.predict_proba(test)[:, 1]"
   ]
  },
  {
   "cell_type": "markdown",
   "id": "1ae3ecd1",
   "metadata": {
    "papermill": {
     "duration": 0.03234,
     "end_time": "2022-10-17T15:03:41.874578",
     "exception": false,
     "start_time": "2022-10-17T15:03:41.842238",
     "status": "completed"
    },
    "tags": []
   },
   "source": [
    "### **Скор catboost:**"
   ]
  },
  {
   "attachments": {
    "149e6fbe-a0f6-4ea2-a714-9b8c24493896.png": {
     "image/png": "[encoded data removed]"
    }
   },
   "cell_type": "markdown",
   "id": "13f649a8",
   "metadata": {
    "papermill": {
     "duration": 0.032135,
     "end_time": "2022-10-17T15:03:41.939315",
     "exception": false,
     "start_time": "2022-10-17T15:03:41.907180",
     "status": "completed"
    },
    "tags": []
   },
   "source": [
    "![image.png](attachment:149e6fbe-a0f6-4ea2-a714-9b8c24493896.png)"
   ]
  },
  {
   "cell_type": "code",
   "execution_count": 64,
   "id": "ac5ffdee",
   "metadata": {
    "execution": {
     "iopub.execute_input": "2022-10-17T15:03:42.006413Z",
     "iopub.status.busy": "2022-10-17T15:03:42.006016Z",
     "iopub.status.idle": "2022-10-17T15:03:42.034032Z",
     "shell.execute_reply": "2022-10-17T15:03:42.033058Z"
    },
    "papermill": {
     "duration": 0.064899,
     "end_time": "2022-10-17T15:03:42.036519",
     "exception": false,
     "start_time": "2022-10-17T15:03:41.971620",
     "status": "completed"
    },
    "tags": []
   },
   "outputs": [],
   "source": [
    "from catboost.utils import get_roc_curve\n",
    "import sklearn\n",
    "from sklearn import metrics\n",
    "\n",
    "curve = get_roc_curve(cv_classifer, catboost_train_dataset)\n",
    "(fpr, tpr, thresholds)=curve\n",
    "roc_auc=sklearn.metrics.auc(fpr, tpr)"
   ]
  },
  {
   "cell_type": "code",
   "execution_count": 65,
   "id": "965e1db5",
   "metadata": {
    "execution": {
     "iopub.execute_input": "2022-10-17T15:03:42.103921Z",
     "iopub.status.busy": "2022-10-17T15:03:42.102997Z",
     "iopub.status.idle": "2022-10-17T15:03:42.373497Z",
     "shell.execute_reply": "2022-10-17T15:03:42.372364Z"
    },
    "papermill": {
     "duration": 0.307154,
     "end_time": "2022-10-17T15:03:42.375956",
     "exception": false,
     "start_time": "2022-10-17T15:03:42.068802",
     "status": "completed"
    },
    "tags": []
   },
   "outputs": [
    {
     "data": {
      "image/png": "[encoded data removed]",
      "text/plain": [
       "<Figure size 1152x576 with 1 Axes>"
      ]
     },
     "metadata": {
      "needs_background": "light"
     },
     "output_type": "display_data"
    }
   ],
   "source": [
    "plt.figure(figsize=(16, 8))\n",
    "lw=2\n",
    "\n",
    "plt.plot(fpr, tpr, color='darkorange',\n",
    "         lw=lw, label='ROC curve (area = %0.2f)' % roc_auc, alpha=0.5)\n",
    "\n",
    "plt.plot([0, 1], [0, 1], color='navy', lw=lw, linestyle='--', alpha=0.5)\n",
    "\n",
    "plt.xlim([0.0, 1.0])\n",
    "plt.ylim([0.0, 1.05])\n",
    "plt.xticks(fontsize=16)\n",
    "plt.yticks(fontsize=16)\n",
    "plt.grid(True)\n",
    "plt.xlabel('False Positive Rate', fontsize=16)\n",
    "plt.ylabel('True Positive Rate', fontsize=16)\n",
    "plt.title('Receiver operating characteristic', fontsize=20)\n",
    "plt.legend(loc=\"lower right\", fontsize=16)\n",
    "plt.show()"
   ]
  },
  {
   "cell_type": "code",
   "execution_count": 66,
   "id": "d0ae0a72",
   "metadata": {
    "execution": {
     "iopub.execute_input": "2022-10-17T15:03:42.444117Z",
     "iopub.status.busy": "2022-10-17T15:03:42.442953Z",
     "iopub.status.idle": "2022-10-17T15:03:42.460390Z",
     "shell.execute_reply": "2022-10-17T15:03:42.458905Z"
    },
    "papermill": {
     "duration": 0.054169,
     "end_time": "2022-10-17T15:03:42.462978",
     "exception": false,
     "start_time": "2022-10-17T15:03:42.408809",
     "status": "completed"
    },
    "tags": []
   },
   "outputs": [],
   "source": [
    "submission = pd.read_csv('../input/advanced-dls-spring-2021/submission.csv')\n",
    "submission['Churn'] = y_test_predicted"
   ]
  },
  {
   "cell_type": "code",
   "execution_count": 67,
   "id": "137f18a2",
   "metadata": {
    "execution": {
     "iopub.execute_input": "2022-10-17T15:03:42.531091Z",
     "iopub.status.busy": "2022-10-17T15:03:42.530036Z",
     "iopub.status.idle": "2022-10-17T15:03:42.541069Z",
     "shell.execute_reply": "2022-10-17T15:03:42.540058Z"
    },
    "papermill": {
     "duration": 0.047335,
     "end_time": "2022-10-17T15:03:42.543431",
     "exception": false,
     "start_time": "2022-10-17T15:03:42.496096",
     "status": "completed"
    },
    "tags": []
   },
   "outputs": [
    {
     "data": {
      "text/html": [
       "<div>\n",
       "<style scoped>\n",
       "    .dataframe tbody tr th:only-of-type {\n",
       "        vertical-align: middle;\n",
       "    }\n",
       "\n",
       "    .dataframe tbody tr th {\n",
       "        vertical-align: top;\n",
       "    }\n",
       "\n",
       "    .dataframe thead th {\n",
       "        text-align: right;\n",
       "    }\n",
       "</style>\n",
       "<table border=\"1\" class=\"dataframe\">\n",
       "  <thead>\n",
       "    <tr style=\"text-align: right;\">\n",
       "      <th></th>\n",
       "      <th>Id</th>\n",
       "      <th>Churn</th>\n",
       "    </tr>\n",
       "  </thead>\n",
       "  <tbody>\n",
       "    <tr>\n",
       "      <th>0</th>\n",
       "      <td>0</td>\n",
       "      <td>0.046640</td>\n",
       "    </tr>\n",
       "    <tr>\n",
       "      <th>1</th>\n",
       "      <td>1</td>\n",
       "      <td>0.757409</td>\n",
       "    </tr>\n",
       "    <tr>\n",
       "      <th>2</th>\n",
       "      <td>2</td>\n",
       "      <td>0.681704</td>\n",
       "    </tr>\n",
       "    <tr>\n",
       "      <th>3</th>\n",
       "      <td>3</td>\n",
       "      <td>0.023818</td>\n",
       "    </tr>\n",
       "    <tr>\n",
       "      <th>4</th>\n",
       "      <td>4</td>\n",
       "      <td>0.008853</td>\n",
       "    </tr>\n",
       "  </tbody>\n",
       "</table>\n",
       "</div>"
      ],
      "text/plain": [
       "   Id     Churn\n",
       "0   0  0.046640\n",
       "1   1  0.757409\n",
       "2   2  0.681704\n",
       "3   3  0.023818\n",
       "4   4  0.008853"
      ]
     },
     "execution_count": 67,
     "metadata": {},
     "output_type": "execute_result"
    }
   ],
   "source": [
    "submission.head()"
   ]
  },
  {
   "cell_type": "code",
   "execution_count": 68,
   "id": "433ad11c",
   "metadata": {
    "execution": {
     "iopub.execute_input": "2022-10-17T15:03:42.611364Z",
     "iopub.status.busy": "2022-10-17T15:03:42.610874Z",
     "iopub.status.idle": "2022-10-17T15:03:42.623835Z",
     "shell.execute_reply": "2022-10-17T15:03:42.622609Z"
    },
    "papermill": {
     "duration": 0.050039,
     "end_time": "2022-10-17T15:03:42.626385",
     "exception": false,
     "start_time": "2022-10-17T15:03:42.576346",
     "status": "completed"
    },
    "tags": []
   },
   "outputs": [],
   "source": [
    "submission.to_csv('/kaggle/working/submission.csv', index = False)"
   ]
  }
 ],
 "metadata": {
  "kernelspec": {
   "display_name": "Python 3",
   "language": "python",
   "name": "python3"
  },
  "language_info": {
   "codemirror_mode": {
    "name": "ipython",
    "version": 3
   },
   "file_extension": ".py",
   "mimetype": "text/x-python",
   "name": "python",
   "nbconvert_exporter": "python",
   "pygments_lexer": "ipython3",
   "version": "3.7.12"
  },
  "papermill": {
   "default_parameters": {},
   "duration": 163.594304,
   "end_time": "2022-10-17T15:03:45.281484",
   "environment_variables": {},
   "exception": null,
   "input_path": "__notebook__.ipynb",
   "output_path": "__notebook__.ipynb",
   "parameters": {},
   "start_time": "2022-10-17T15:01:01.687180",
   "version": "2.3.4"
  }
 },
 "nbformat": 4,
 "nbformat_minor": 5
}
